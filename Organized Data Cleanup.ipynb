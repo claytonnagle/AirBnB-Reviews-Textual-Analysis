{
 "cells": [
  {
   "cell_type": "code",
   "execution_count": 305,
   "metadata": {},
   "outputs": [
    {
     "name": "stderr",
     "output_type": "stream",
     "text": [
      "[nltk_data] Downloading package punkt to\n",
      "[nltk_data]     C:\\Users\\nagle.bagel\\AppData\\Roaming\\nltk_data...\n",
      "[nltk_data]   Package punkt is already up-to-date!\n",
      "[nltk_data] Downloading package stopwords to\n",
      "[nltk_data]     C:\\Users\\nagle.bagel\\AppData\\Roaming\\nltk_data...\n",
      "[nltk_data]   Package stopwords is already up-to-date!\n"
     ]
    }
   ],
   "source": [
    "import nltk \n",
    "import pandas as pd\n",
    "import numpy as np\n",
    "from textblob import TextBlob\n",
    "from nltk.corpus import stopwords\n",
    "nltk.download('punkt')\n",
    "nltk.download('stopwords') #download stopwords \n",
    "from nltk.tokenize import word_tokenize\n",
    "from nltk.stem import LancasterStemmer, WordNetLemmatizer, PorterStemmer\n",
    "\n",
    "import matplotlib.pyplot as plt\n",
    "\n",
    "from sklearn.preprocessing import MinMaxScaler\n",
    "from sklearn.feature_extraction.text import TfidfTransformer, CountVectorizer\n",
    "from sklearn.linear_model import LinearRegression\n",
    "\n",
    "import re \n",
    "\n",
    "stop_words = set(stopwords.words('english'))\n",
    "suffix = PorterStemmer()"
   ]
  },
  {
   "cell_type": "code",
   "execution_count": 180,
   "metadata": {},
   "outputs": [],
   "source": [
    "review_text_df = pd.read_csv('F:\\\\Important Folder\\\\School\\\\UCSD Extension Data Bootcamp\\\\final project\\\\project-3 - Copy\\\\data\\\\reviews.csv')"
   ]
  },
  {
   "cell_type": "code",
   "execution_count": 181,
   "metadata": {},
   "outputs": [],
   "source": [
    "review_text_df.dropna(inplace = True)\n",
    "review_text_df = review_text_df.groupby('listing_id').filter(lambda x: x['id'].count() > 100).reset_index(drop = True)\n",
    "review_text_df['comments cleaned'] = review_text_df['comments'].apply(lambda x: \" \".join(x.lower() for x in x.split()))\n",
    "review_text_df['comments cleaned'] = review_text_df['comments cleaned'].str.replace(r'[^\\w\\s]','')\n",
    "review_text_df['comments cleaned'] = review_text_df['comments cleaned'].apply(lambda x: \" \".join(x for x in x.split() if x not in stop_words))\n",
    "review_text_df['comments cleaned'] = review_text_df['comments cleaned'].apply(lambda x: \" \".join([suffix.stem(word) for word in x.split()]))\n",
    "\n",
    "review_text_df['tokens'] = review_text_df.apply(lambda row: word_tokenize(row['comments cleaned']), axis = 1)"
   ]
  },
  {
   "cell_type": "code",
   "execution_count": 182,
   "metadata": {},
   "outputs": [
    {
     "data": {
      "text/plain": [
       "list"
      ]
     },
     "execution_count": 182,
     "metadata": {},
     "output_type": "execute_result"
    }
   ],
   "source": [
    "type(review_text_df['tokens'][1])"
   ]
  },
  {
   "cell_type": "code",
   "execution_count": 183,
   "metadata": {},
   "outputs": [],
   "source": [
    "def sentimentFunc(x):\n",
    "    return TextBlob(x).sentiment\n",
    "#polarity is how positive -1 to 1, will scale to 0 to 1\n",
    "#subjectivity is fact vs opinion, 0 to one, with factual being 0"
   ]
  },
  {
   "cell_type": "code",
   "execution_count": 184,
   "metadata": {},
   "outputs": [],
   "source": [
    "review_text_df['senti'] = review_text_df['comments cleaned'].apply(sentimentFunc)\n",
    "for index, row in review_text_df.iterrows():\n",
    "    review_text_df.loc[index, 'Sentiment'], review_text_df.loc[index, 'Subjectivity'] = row['senti']\n"
   ]
  },
  {
   "cell_type": "code",
   "execution_count": 67,
   "metadata": {},
   "outputs": [],
   "source": [
    "#review_text_df.to_csv('F:\\\\Important Folder\\\\School\\\\UCSD Extension Data Bootcamp\\\\final project\\\\project-3\\\\data\\\\separated_sentiment.csv')\n",
    "\n",
    "review_text_df = pd.read_csv('F:\\\\Important Folder\\\\School\\\\UCSD Extension Data Bootcamp\\\\final project\\\\project-3 - Copy\\\\data\\\\separated_sentiment.csv')"
   ]
  },
  {
   "cell_type": "code",
   "execution_count": 185,
   "metadata": {},
   "outputs": [],
   "source": [
    "scaler = MinMaxScaler()\n",
    "\n",
    "review_text_df['Sentiment'] = scaler.fit_transform(review_text_df[['Sentiment']])"
   ]
  },
  {
   "cell_type": "code",
   "execution_count": 186,
   "metadata": {},
   "outputs": [],
   "source": [
    "listings = pd.read_csv('F:\\\\Important Folder\\\\School\\\\UCSD Extension Data Bootcamp\\\\final project\\\\project-3 - Copy\\\\data\\\\listings.csv')"
   ]
  },
  {
   "cell_type": "code",
   "execution_count": 189,
   "metadata": {},
   "outputs": [],
   "source": [
    "review_text_df = review_text_df.merge(listings[['review_scores_rating', 'host_name', 'id']],\n",
    "                                    how = 'left', left_on = 'listing_id', right_on = 'id')\n",
    "\n",
    "review_text_df = review_text_df.drop(columns = ['id_y','senti'])\n",
    "review_text_df.rename(columns = {'id_x':'id'},inplace = True)\n",
    "\n",
    "review_text_df['Mean Sentiment'] = review_text_df['Sentiment'].groupby(review_text_df['listing_id']).transform('mean')\n",
    "review_text_df['Mean Subjectivity'] = review_text_df['Subjectivity'].groupby(review_text_df['listing_id']).transform('mean')\n",
    "\n"
   ]
  },
  {
   "cell_type": "code",
   "execution_count": 72,
   "metadata": {},
   "outputs": [],
   "source": [
    "review_text_df.to_csv('F:\\\\Important Folder\\\\School\\\\UCSD Extension Data Bootcamp\\\\final project\\\\project-3\\\\separated_sentiment.csv')"
   ]
  },
  {
   "cell_type": "code",
   "execution_count": 73,
   "metadata": {},
   "outputs": [
    {
     "name": "stdout",
     "output_type": "stream",
     "text": [
      "0.03941253607188466\n"
     ]
    },
    {
     "data": {
      "image/png": "[encoded data removed]",
      "text/plain": [
       "<Figure size 432x288 with 1 Axes>"
      ]
     },
     "metadata": {
      "needs_background": "light"
     },
     "output_type": "display_data"
    }
   ],
   "source": [
    "grouped_df = review_text_df.groupby('listing_id')\n",
    "\n",
    "reg = LinearRegression()\n",
    "X = grouped_df.mean()['Sentiment'].values[:,np.newaxis]\n",
    "reg.fit(X, grouped_df.mean()['review_scores_rating'])\n",
    "\n",
    "plt.scatter(X, grouped_df.mean()['review_scores_rating'])\n",
    "plt.plot(X, reg.predict(X), color = 'black')\n",
    "print(reg.score(X, grouped_df.mean()['review_scores_rating']))\n"
   ]
  },
  {
   "cell_type": "code",
   "execution_count": 76,
   "metadata": {},
   "outputs": [],
   "source": [
    "high_subj = review_text_df.loc[review_text_df['Subjectivity'] > 0.5,:]"
   ]
  },
  {
   "cell_type": "code",
   "execution_count": 77,
   "metadata": {},
   "outputs": [
    {
     "name": "stdout",
     "output_type": "stream",
     "text": [
      "8.278214788137728e-05\n"
     ]
    },
    {
     "data": {
      "image/png": "[encoded data removed]",
      "text/plain": [
       "<Figure size 432x288 with 1 Axes>"
      ]
     },
     "metadata": {
      "needs_background": "light"
     },
     "output_type": "display_data"
    }
   ],
   "source": [
    "grouped_df = high_subj.groupby('listing_id')\n",
    "\n",
    "reg = LinearRegression()\n",
    "X = grouped_df.mean()['Sentiment'].values[:,np.newaxis]\n",
    "reg.fit(X, grouped_df.mean()['review_scores_rating'])\n",
    "\n",
    "plt.scatter(X, grouped_df.mean()['review_scores_rating'])\n",
    "plt.plot(X, reg.predict(X), color = 'black')\n",
    "print(reg.score(X, grouped_df.mean()['review_scores_rating']))\n"
   ]
  },
  {
   "cell_type": "code",
   "execution_count": 190,
   "metadata": {
    "scrolled": true
   },
   "outputs": [
    {
     "data": {
      "text/html": [
       "<div>\n",
       "<style scoped>\n",
       "    .dataframe tbody tr th:only-of-type {\n",
       "        vertical-align: middle;\n",
       "    }\n",
       "\n",
       "    .dataframe tbody tr th {\n",
       "        vertical-align: top;\n",
       "    }\n",
       "\n",
       "    .dataframe thead th {\n",
       "        text-align: right;\n",
       "    }\n",
       "</style>\n",
       "<table border=\"1\" class=\"dataframe\">\n",
       "  <thead>\n",
       "    <tr style=\"text-align: right;\">\n",
       "      <th></th>\n",
       "      <th>listing_id</th>\n",
       "      <th>id</th>\n",
       "      <th>date</th>\n",
       "      <th>reviewer_id</th>\n",
       "      <th>reviewer_name</th>\n",
       "      <th>comments</th>\n",
       "      <th>comments cleaned</th>\n",
       "      <th>tokens</th>\n",
       "      <th>Sentiment</th>\n",
       "      <th>Subjectivity</th>\n",
       "      <th>review_scores_rating_x</th>\n",
       "      <th>host_name_x</th>\n",
       "      <th>review_scores_rating_y</th>\n",
       "      <th>host_name_y</th>\n",
       "      <th>id</th>\n",
       "      <th>Mean Sentiment</th>\n",
       "      <th>Mean Subjectivity</th>\n",
       "    </tr>\n",
       "  </thead>\n",
       "  <tbody>\n",
       "    <tr>\n",
       "      <th>0</th>\n",
       "      <td>38245</td>\n",
       "      <td>93702</td>\n",
       "      <td>2010-09-09</td>\n",
       "      <td>187475</td>\n",
       "      <td>William</td>\n",
       "      <td>really great hist and nice place, a good locat...</td>\n",
       "      <td>realli great hist nice place good locat san di...</td>\n",
       "      <td>[realli, great, hist, nice, place, good, locat...</td>\n",
       "      <td>0.686310</td>\n",
       "      <td>0.686607</td>\n",
       "      <td>86.0</td>\n",
       "      <td>Melinda</td>\n",
       "      <td>86.0</td>\n",
       "      <td>Melinda</td>\n",
       "      <td>38245</td>\n",
       "      <td>0.679934</td>\n",
       "      <td>0.535697</td>\n",
       "    </tr>\n",
       "    <tr>\n",
       "      <th>1</th>\n",
       "      <td>38245</td>\n",
       "      <td>132608</td>\n",
       "      <td>2010-11-02</td>\n",
       "      <td>269362</td>\n",
       "      <td>John</td>\n",
       "      <td>Melinda is a god person to deal with and very ...</td>\n",
       "      <td>melinda god person deal accommodatingeasi go h...</td>\n",
       "      <td>[melinda, god, person, deal, accommodatingeasi...</td>\n",
       "      <td>0.500000</td>\n",
       "      <td>0.200000</td>\n",
       "      <td>86.0</td>\n",
       "      <td>Melinda</td>\n",
       "      <td>86.0</td>\n",
       "      <td>Melinda</td>\n",
       "      <td>38245</td>\n",
       "      <td>0.679934</td>\n",
       "      <td>0.535697</td>\n",
       "    </tr>\n",
       "    <tr>\n",
       "      <th>2</th>\n",
       "      <td>38245</td>\n",
       "      <td>142704</td>\n",
       "      <td>2010-11-22</td>\n",
       "      <td>108540</td>\n",
       "      <td>Suzan</td>\n",
       "      <td>Melinda's house in a beautiful part of San Die...</td>\n",
       "      <td>melinda hous beauti part san diego close airpo...</td>\n",
       "      <td>[melinda, hous, beauti, part, san, diego, clos...</td>\n",
       "      <td>0.614286</td>\n",
       "      <td>0.295238</td>\n",
       "      <td>86.0</td>\n",
       "      <td>Melinda</td>\n",
       "      <td>86.0</td>\n",
       "      <td>Melinda</td>\n",
       "      <td>38245</td>\n",
       "      <td>0.679934</td>\n",
       "      <td>0.535697</td>\n",
       "    </tr>\n",
       "    <tr>\n",
       "      <th>3</th>\n",
       "      <td>38245</td>\n",
       "      <td>156426</td>\n",
       "      <td>2010-12-20</td>\n",
       "      <td>314129</td>\n",
       "      <td>Sonia</td>\n",
       "      <td>My stay at Melinda's was great. Such a nice, w...</td>\n",
       "      <td>stay melinda great nice warm person beauti com...</td>\n",
       "      <td>[stay, melinda, great, nice, warm, person, bea...</td>\n",
       "      <td>0.769697</td>\n",
       "      <td>0.709091</td>\n",
       "      <td>86.0</td>\n",
       "      <td>Melinda</td>\n",
       "      <td>86.0</td>\n",
       "      <td>Melinda</td>\n",
       "      <td>38245</td>\n",
       "      <td>0.679934</td>\n",
       "      <td>0.535697</td>\n",
       "    </tr>\n",
       "    <tr>\n",
       "      <th>4</th>\n",
       "      <td>38245</td>\n",
       "      <td>169467</td>\n",
       "      <td>2011-01-11</td>\n",
       "      <td>25218</td>\n",
       "      <td>David</td>\n",
       "      <td>Melinda is a very friendly host who is attenti...</td>\n",
       "      <td>melinda friendli host attent guest even invit ...</td>\n",
       "      <td>[melinda, friendli, host, attent, guest, even,...</td>\n",
       "      <td>0.525000</td>\n",
       "      <td>0.250000</td>\n",
       "      <td>86.0</td>\n",
       "      <td>Melinda</td>\n",
       "      <td>86.0</td>\n",
       "      <td>Melinda</td>\n",
       "      <td>38245</td>\n",
       "      <td>0.679934</td>\n",
       "      <td>0.535697</td>\n",
       "    </tr>\n",
       "  </tbody>\n",
       "</table>\n",
       "</div>"
      ],
      "text/plain": [
       "   listing_id      id        date  reviewer_id reviewer_name  \\\n",
       "0       38245   93702  2010-09-09       187475       William   \n",
       "1       38245  132608  2010-11-02       269362          John   \n",
       "2       38245  142704  2010-11-22       108540         Suzan   \n",
       "3       38245  156426  2010-12-20       314129         Sonia   \n",
       "4       38245  169467  2011-01-11        25218         David   \n",
       "\n",
       "                                            comments  \\\n",
       "0  really great hist and nice place, a good locat...   \n",
       "1  Melinda is a god person to deal with and very ...   \n",
       "2  Melinda's house in a beautiful part of San Die...   \n",
       "3  My stay at Melinda's was great. Such a nice, w...   \n",
       "4  Melinda is a very friendly host who is attenti...   \n",
       "\n",
       "                                    comments cleaned  \\\n",
       "0  realli great hist nice place good locat san di...   \n",
       "1  melinda god person deal accommodatingeasi go h...   \n",
       "2  melinda hous beauti part san diego close airpo...   \n",
       "3  stay melinda great nice warm person beauti com...   \n",
       "4  melinda friendli host attent guest even invit ...   \n",
       "\n",
       "                                              tokens  Sentiment  Subjectivity  \\\n",
       "0  [realli, great, hist, nice, place, good, locat...   0.686310      0.686607   \n",
       "1  [melinda, god, person, deal, accommodatingeasi...   0.500000      0.200000   \n",
       "2  [melinda, hous, beauti, part, san, diego, clos...   0.614286      0.295238   \n",
       "3  [stay, melinda, great, nice, warm, person, bea...   0.769697      0.709091   \n",
       "4  [melinda, friendli, host, attent, guest, even,...   0.525000      0.250000   \n",
       "\n",
       "   review_scores_rating_x host_name_x  review_scores_rating_y host_name_y  \\\n",
       "0                    86.0     Melinda                    86.0     Melinda   \n",
       "1                    86.0     Melinda                    86.0     Melinda   \n",
       "2                    86.0     Melinda                    86.0     Melinda   \n",
       "3                    86.0     Melinda                    86.0     Melinda   \n",
       "4                    86.0     Melinda                    86.0     Melinda   \n",
       "\n",
       "      id  Mean Sentiment  Mean Subjectivity  \n",
       "0  38245        0.679934           0.535697  \n",
       "1  38245        0.679934           0.535697  \n",
       "2  38245        0.679934           0.535697  \n",
       "3  38245        0.679934           0.535697  \n",
       "4  38245        0.679934           0.535697  "
      ]
     },
     "execution_count": 190,
     "metadata": {},
     "output_type": "execute_result"
    }
   ],
   "source": [
    "review_text_df.head()"
   ]
  },
  {
   "cell_type": "code",
   "execution_count": 79,
   "metadata": {},
   "outputs": [],
   "source": [
    "vectorizer = TfidfVectorizer()\n",
    "tfidf_matrix = vectorizer.fit_transform(review_text_df['tokens'])\n",
    "review_text_df['TF_IDF'] = list(tfidf_matrix)\n",
    "corpus = vectorizer.get_feature_names()"
   ]
  },
  {
   "cell_type": "code",
   "execution_count": 140,
   "metadata": {
    "scrolled": true
   },
   "outputs": [
    {
     "name": "stdout",
     "output_type": "stream",
     "text": [
      "[('great', 184057), ('place', 179619), ('stay', 176151), ('locat', 122253), ('clean', 85260), ('beach', 72340), ('would', 71036), ('host', 67171), ('everyth', 61831), ('nice', 60370), ('recommend', 57237), ('love', 55309), ('perfect', 54642), ('san', 53487), ('hous', 53410), ('diego', 53256), ('walk', 52254), ('need', 52139), ('comfort', 50289), ('park', 49068), ('definit', 47890), ('close', 46463), ('us', 45725), ('home', 43221), ('space', 42005), ('time', 40532), ('easi', 38657), ('realli', 36336), ('room', 36003), ('littl', 34948), ('area', 33197), ('restaur', 32916), ('enjoy', 32617), ('well', 32561), ('amaz', 31897), ('super', 31748), ('bed', 31145), ('beauti', 30703), ('back', 30273), ('also', 28591), ('good', 27865), ('thank', 27040), ('get', 26974), ('like', 25639), ('neighborhood', 25636), ('quiet', 25362), ('wonder', 24850), ('even', 23544), ('help', 23492), ('commun', 23469), ('highli', 23102), ('night', 23086), ('check', 22733), ('one', 22370), ('spot', 22058), ('lot', 21277), ('distanc', 21007), ('away', 20933), ('apart', 20157), ('day', 19667), ('made', 19575), ('cozi', 19538), ('cute', 19102), ('look', 19017), ('minut', 18952), ('respons', 18473), ('airbnb', 18433), ('could', 18245), ('quick', 18131), ('come', 18092), ('make', 18069), ('want', 17689), ('experi', 17654), ('use', 17592), ('kitchen', 17344), ('conveni', 17307), ('go', 17172), ('awesom', 17150), ('famili', 16774), ('visit', 16684), ('much', 16668), ('provid', 16638), ('right', 16535), ('downtown', 15995), ('accommod', 15990), ('street', 15882), ('amen', 15657), ('friendli', 15613), ('feel', 15505), ('around', 15210), ('cottag', 15197), ('coffe', 15013), ('view', 15008), ('shop', 14568), ('welcom', 14284), ('privat', 14281), ('thing', 14164), ('small', 13826), ('mani', 13802), ('bathroom', 13773)]\n"
     ]
    }
   ],
   "source": [
    "vec = CountVectorizer(max_df = 0.8).fit(review_text_df['tokens'])\n",
    "bag_of_words = vec.transform(review_text_df['tokens'])\n",
    "sum_words = bag_of_words.sum(axis=0) \n",
    "words_freq = [(word, sum_words[0, idx]) for word, idx in vec.vocabulary_.items()]\n",
    "words_freq =sorted(words_freq, key = lambda x: x[1], reverse=True)\n",
    "print(words_freq[:100])"
   ]
  },
  {
   "cell_type": "code",
   "execution_count": 386,
   "metadata": {},
   "outputs": [],
   "source": [
    "#https://kavita-ganesan.com/extracting-keywords-from-text-tfidf/#\n",
    "\n",
    "def get_listing_corpus(series_tokens):\n",
    "    tokens_list = []\n",
    "    for i in series_tokens:\n",
    "        tokens_list = tokens_list + i\n",
    "    return tokens_list\n",
    "\n",
    "def sort_coo(coo_matrix):\n",
    "    tuples = zip(coo_matrix.col, coo_matrix.data)\n",
    "    return sorted(tuples, key=lambda x: (x[1], x[0]), reverse=True)\n",
    "\n",
    "\n",
    "def extract_topn_from_vector(feature_names, sorted_items):\n",
    "    \"\"\"get the feature names and tf-idf score of top n items\"\"\"\n",
    "    \n",
    "    #use only topn items from vector\n",
    "    #sorted_items = sorted_items[:topn]\n",
    "\n",
    "    score_vals = []\n",
    "    feature_vals = []\n",
    "    \n",
    "    # word index and corresponding tf-idf score\n",
    "    for idx, score in sorted_items:\n",
    "        \n",
    "        #keep track of feature name and its corresponding score\n",
    "        score_vals.append(round(score, 3))\n",
    "        feature_vals.append(feature_names[idx])\n",
    "\n",
    "    #create a tuples of feature,score\n",
    "#     results = zip(feature_vals,score_vals)\n",
    "    results= {}\n",
    "    for idx in range(len(feature_vals)):\n",
    "        results[feature_vals[idx]]=score_vals[idx]\n",
    "    return results"
   ]
  },
  {
   "cell_type": "code",
   "execution_count": 390,
   "metadata": {},
   "outputs": [],
   "source": [
    "grouped_df = review_text_df.groupby('listing_id')\n",
    "\n",
    "tf_idf_df = pd.DataFrame(columns = ['listing_id','tokens','unique_words','tf','tfidf'], index = list(grouped_df.groups.keys()))\n",
    "tf_idf_df['listing_id'] = tf_idf_df.index.values\n",
    "\n",
    "for key, items in grouped_df:\n",
    "    tokens_collected = get_listing_corpus(grouped_df.get_group(key)['tokens'])\n",
    "    tf_idf_df['tokens'].loc[key] = tokens_collected\n",
    "    tf_idf_df['unique_words'].loc[key] = set(tf_idf_df['tokens'].loc[key])\n",
    "    \n",
    "    \n",
    "    cv = CountVectorizer(max_df = 0.85)\n",
    "    word_count_vector = cv.fit_transform(tf_idf_df['tokens'].loc[key])\n",
    "    \n",
    "    tf_idf_df['tf'].loc[key] = str(cv.vocabulary_)\n",
    "    \n",
    "    \n",
    "cv = CountVectorizer(max_df = 0.85)\n",
    "word_count_vector = cv.fit_transform(get_listing_corpus(tf_idf_df['tokens']))\n",
    "\n",
    "tfidf_transformer=TfidfTransformer(smooth_idf=True,use_idf=True)\n",
    "tfidf_transformer.fit(word_count_vector)\n",
    "    \n",
    "feature_names = cv.get_feature_names()\n",
    "\n",
    "\n",
    "for index, row in tf_idf_df.iterrows():\n",
    "    tf_idf_vector = tfidf_transformer.transform(cv.transform([' '.join(tf_idf_df['tokens'].loc[index])]))\n",
    "    sorted_items = sort_coo(tf_idf_vector.tocoo())\n",
    "    \n",
    "    keywords = extract_topn_from_vector(feature_names, sorted_items)\n",
    "    \n",
    "    tf_idf_df['tfidf'].loc[index] = str(keywords)\n",
    "\n",
    "\n",
    "tf_idf_df.reset_index(inplace = True)"
   ]
  },
  {
   "cell_type": "code",
   "execution_count": 415,
   "metadata": {},
   "outputs": [
    {
     "data": {
      "text/plain": [
       "20860041"
      ]
     },
     "execution_count": 415,
     "metadata": {},
     "output_type": "execute_result"
    }
   ],
   "source": [
    "tf_idf_df.reset_index().iloc[963,1]"
   ]
  },
  {
   "cell_type": "markdown",
   "metadata": {},
   "source": [
    "talk about listing id 26782981\n",
    "\n",
    "https://www.airbnb.com/rooms/26782981/photos/?source_impression_id=p3_1626940495_pDo2Hqmp0x%2F%2Bq0N2&guests=1&adults=1\n",
    "\n"
   ]
  },
  {
   "cell_type": "code",
   "execution_count": 395,
   "metadata": {},
   "outputs": [
    {
     "data": {
      "text/html": [
       "<div>\n",
       "<style scoped>\n",
       "    .dataframe tbody tr th:only-of-type {\n",
       "        vertical-align: middle;\n",
       "    }\n",
       "\n",
       "    .dataframe tbody tr th {\n",
       "        vertical-align: top;\n",
       "    }\n",
       "\n",
       "    .dataframe thead th {\n",
       "        text-align: right;\n",
       "    }\n",
       "</style>\n",
       "<table border=\"1\" class=\"dataframe\">\n",
       "  <thead>\n",
       "    <tr style=\"text-align: right;\">\n",
       "      <th></th>\n",
       "      <th>listing_id</th>\n",
       "      <th>tokens</th>\n",
       "      <th>unique_words</th>\n",
       "      <th>tf</th>\n",
       "      <th>tfidf</th>\n",
       "    </tr>\n",
       "  </thead>\n",
       "  <tbody>\n",
       "    <tr>\n",
       "      <th>38245</th>\n",
       "      <td>38245</td>\n",
       "      <td>[realli, great, hist, nice, place, good, locat...</td>\n",
       "      <td>{could, temperatur, histori, actual, vibrant, ...</td>\n",
       "      <td>{'realli': 968, 'great': 551, 'hist': 595, 'ni...</td>\n",
       "      <td>{'melinda': 0.745, 'stay': 0.175, 'hous': 0.14...</td>\n",
       "    </tr>\n",
       "    <tr>\n",
       "      <th>62274</th>\n",
       "      <td>62274</td>\n",
       "      <td>[isabel, gener, thought, hostess, thoroughli, ...</td>\n",
       "      <td>{could, fascin, temperatur, sport, hotspot, ac...</td>\n",
       "      <td>{'isabel': 1159, 'gener': 929, 'thought': 2130...</td>\n",
       "      <td>{'isabel': 0.652, 'stay': 0.197, 'place': 0.19...</td>\n",
       "    </tr>\n",
       "    <tr>\n",
       "      <th>62949</th>\n",
       "      <td>62949</td>\n",
       "      <td>[rental, exactli, state, lisa, provid, nice, a...</td>\n",
       "      <td>{could, actual, friend, itali, bay, mind, gene...</td>\n",
       "      <td>{'rental': 1337, 'exactli': 584, 'state': 1536...</td>\n",
       "      <td>{'lisa': 0.576, 'place': 0.251, 'stay': 0.241,...</td>\n",
       "    </tr>\n",
       "    <tr>\n",
       "      <th>75668</th>\n",
       "      <td>75668</td>\n",
       "      <td>[found, apart, clean, tidi, spaciou, wellappoi...</td>\n",
       "      <td>{strongli, could, temperatur, histori, actual,...</td>\n",
       "      <td>{'found': 515, 'apart': 100, 'clean': 260, 'ti...</td>\n",
       "      <td>{'johnathon': 0.512, 'stay': 0.253, 'great': 0...</td>\n",
       "    </tr>\n",
       "    <tr>\n",
       "      <th>79300</th>\n",
       "      <td>79300</td>\n",
       "      <td>[great, stay, room, clean, nice, host, great, ...</td>\n",
       "      <td>{strongli, back, could, wellworth, right, self...</td>\n",
       "      <td>{'great': 471, 'stay': 985, 'room': 880, 'clea...</td>\n",
       "      <td>{'johnathon': 0.56, 'stay': 0.24, 'great': 0.2...</td>\n",
       "    </tr>\n",
       "    <tr>\n",
       "      <th>...</th>\n",
       "      <td>...</td>\n",
       "      <td>...</td>\n",
       "      <td>...</td>\n",
       "      <td>...</td>\n",
       "      <td>...</td>\n",
       "    </tr>\n",
       "    <tr>\n",
       "      <th>42143732</th>\n",
       "      <td>42143732</td>\n",
       "      <td>[beauti, condo, downtown, sd, near, littl, ita...</td>\n",
       "      <td>{back, could, right, window, sad, music, son, ...</td>\n",
       "      <td>{'beauti': 68, 'condo': 120, 'downtown': 168, ...</td>\n",
       "      <td>{'rich': 0.491, 'place': 0.302, 'stay': 0.294,...</td>\n",
       "    </tr>\n",
       "    <tr>\n",
       "      <th>42608887</th>\n",
       "      <td>42608887</td>\n",
       "      <td>[jenni, place, amaz, chic, stylish, exactli, p...</td>\n",
       "      <td>{back, could, right, homeless, self, happen, w...</td>\n",
       "      <td>{'jenni': 317, 'place': 448, 'amaz': 31, 'chic...</td>\n",
       "      <td>{'place': 0.346, 'beach': 0.26, 'great': 0.259...</td>\n",
       "    </tr>\n",
       "    <tr>\n",
       "      <th>42627855</th>\n",
       "      <td>42627855</td>\n",
       "      <td>[great, spot, coupl, block, beach, jenni, plac...</td>\n",
       "      <td>{back, could, homeless, right, fold, happen, a...</td>\n",
       "      <td>{'great': 285, 'spot': 599, 'coupl': 157, 'blo...</td>\n",
       "      <td>{'place': 0.316, 'beach': 0.308, 'jenni': 0.21...</td>\n",
       "    </tr>\n",
       "    <tr>\n",
       "      <th>42689144</th>\n",
       "      <td>42689144</td>\n",
       "      <td>[great, spot, mission, beach, cozi, cottag, we...</td>\n",
       "      <td>{back, could, right, window, tini, neighbor, i...</td>\n",
       "      <td>{'great': 240, 'spot': 479, 'mission': 335, 'b...</td>\n",
       "      <td>{'place': 0.403, 'locat': 0.342, 'beach': 0.30...</td>\n",
       "    </tr>\n",
       "    <tr>\n",
       "      <th>43791368</th>\n",
       "      <td>43791368</td>\n",
       "      <td>[great, place, great, locat, great, price, tha...</td>\n",
       "      <td>{back, could, right, window, tini, eventhough,...</td>\n",
       "      <td>{'great': 214, 'place': 351, 'locat': 272, 'pr...</td>\n",
       "      <td>{'arya': 0.418, 'great': 0.296, 'place': 0.293...</td>\n",
       "    </tr>\n",
       "  </tbody>\n",
       "</table>\n",
       "<p>1484 rows × 5 columns</p>\n",
       "</div>"
      ],
      "text/plain": [
       "          listing_id                                             tokens  \\\n",
       "38245          38245  [realli, great, hist, nice, place, good, locat...   \n",
       "62274          62274  [isabel, gener, thought, hostess, thoroughli, ...   \n",
       "62949          62949  [rental, exactli, state, lisa, provid, nice, a...   \n",
       "75668          75668  [found, apart, clean, tidi, spaciou, wellappoi...   \n",
       "79300          79300  [great, stay, room, clean, nice, host, great, ...   \n",
       "...              ...                                                ...   \n",
       "42143732    42143732  [beauti, condo, downtown, sd, near, littl, ita...   \n",
       "42608887    42608887  [jenni, place, amaz, chic, stylish, exactli, p...   \n",
       "42627855    42627855  [great, spot, coupl, block, beach, jenni, plac...   \n",
       "42689144    42689144  [great, spot, mission, beach, cozi, cottag, we...   \n",
       "43791368    43791368  [great, place, great, locat, great, price, tha...   \n",
       "\n",
       "                                               unique_words  \\\n",
       "38245     {could, temperatur, histori, actual, vibrant, ...   \n",
       "62274     {could, fascin, temperatur, sport, hotspot, ac...   \n",
       "62949     {could, actual, friend, itali, bay, mind, gene...   \n",
       "75668     {strongli, could, temperatur, histori, actual,...   \n",
       "79300     {strongli, back, could, wellworth, right, self...   \n",
       "...                                                     ...   \n",
       "42143732  {back, could, right, window, sad, music, son, ...   \n",
       "42608887  {back, could, right, homeless, self, happen, w...   \n",
       "42627855  {back, could, homeless, right, fold, happen, a...   \n",
       "42689144  {back, could, right, window, tini, neighbor, i...   \n",
       "43791368  {back, could, right, window, tini, eventhough,...   \n",
       "\n",
       "                                                         tf  \\\n",
       "38245     {'realli': 968, 'great': 551, 'hist': 595, 'ni...   \n",
       "62274     {'isabel': 1159, 'gener': 929, 'thought': 2130...   \n",
       "62949     {'rental': 1337, 'exactli': 584, 'state': 1536...   \n",
       "75668     {'found': 515, 'apart': 100, 'clean': 260, 'ti...   \n",
       "79300     {'great': 471, 'stay': 985, 'room': 880, 'clea...   \n",
       "...                                                     ...   \n",
       "42143732  {'beauti': 68, 'condo': 120, 'downtown': 168, ...   \n",
       "42608887  {'jenni': 317, 'place': 448, 'amaz': 31, 'chic...   \n",
       "42627855  {'great': 285, 'spot': 599, 'coupl': 157, 'blo...   \n",
       "42689144  {'great': 240, 'spot': 479, 'mission': 335, 'b...   \n",
       "43791368  {'great': 214, 'place': 351, 'locat': 272, 'pr...   \n",
       "\n",
       "                                                      tfidf  \n",
       "38245     {'melinda': 0.745, 'stay': 0.175, 'hous': 0.14...  \n",
       "62274     {'isabel': 0.652, 'stay': 0.197, 'place': 0.19...  \n",
       "62949     {'lisa': 0.576, 'place': 0.251, 'stay': 0.241,...  \n",
       "75668     {'johnathon': 0.512, 'stay': 0.253, 'great': 0...  \n",
       "79300     {'johnathon': 0.56, 'stay': 0.24, 'great': 0.2...  \n",
       "...                                                     ...  \n",
       "42143732  {'rich': 0.491, 'place': 0.302, 'stay': 0.294,...  \n",
       "42608887  {'place': 0.346, 'beach': 0.26, 'great': 0.259...  \n",
       "42627855  {'place': 0.316, 'beach': 0.308, 'jenni': 0.21...  \n",
       "42689144  {'place': 0.403, 'locat': 0.342, 'beach': 0.30...  \n",
       "43791368  {'arya': 0.418, 'great': 0.296, 'place': 0.293...  \n",
       "\n",
       "[1484 rows x 5 columns]"
      ]
     },
     "execution_count": 395,
     "metadata": {},
     "output_type": "execute_result"
    }
   ],
   "source": [
    "tf_idf_df"
   ]
  }
 ],
 "metadata": {
  "kernelspec": {
   "display_name": "Python 3",
   "language": "python",
   "name": "python3"
  },
  "language_info": {
   "codemirror_mode": {
    "name": "ipython",
    "version": 3
   },
   "file_extension": ".py",
   "mimetype": "text/x-python",
   "name": "python",
   "nbconvert_exporter": "python",
   "pygments_lexer": "ipython3",
   "version": "3.8.5"
  }
 },
 "nbformat": 4,
 "nbformat_minor": 4
}
