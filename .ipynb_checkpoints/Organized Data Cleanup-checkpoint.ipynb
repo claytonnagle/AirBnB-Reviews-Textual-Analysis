{
 "cells": [
  {
   "cell_type": "code",
   "execution_count": 1,
   "metadata": {},
   "outputs": [
    {
     "name": "stderr",
     "output_type": "stream",
     "text": [
      "[nltk_data] Downloading package punkt to\n",
      "[nltk_data]     C:\\Users\\nagle.bagel\\AppData\\Roaming\\nltk_data...\n",
      "[nltk_data]   Package punkt is already up-to-date!\n",
      "[nltk_data] Downloading package stopwords to\n",
      "[nltk_data]     C:\\Users\\nagle.bagel\\AppData\\Roaming\\nltk_data...\n",
      "[nltk_data]   Package stopwords is already up-to-date!\n"
     ]
    }
   ],
   "source": [
    "import nltk \n",
    "import pandas as pd\n",
    "import numpy as np\n",
    "from textblob import TextBlob\n",
    "from nltk.corpus import stopwords\n",
    "nltk.download('punkt')\n",
    "nltk.download('stopwords') #download stopwords \n",
    "from nltk.tokenize import word_tokenize\n",
    "from nltk.stem import LancasterStemmer, WordNetLemmatizer, PorterStemmer\n",
    "\n",
    "import matplotlib.pyplot as plt\n",
    "\n",
    "from sklearn.preprocessing import MinMaxScaler\n",
    "from sklearn.feature_extraction.text import TfidfTransformer, CountVectorizer\n",
    "from sklearn.linear_model import LinearRegression\n",
    "\n",
    "import re \n",
    "\n",
    "stop_words = set(stopwords.words('english'))\n",
    "suffix = PorterStemmer()"
   ]
  },
  {
   "cell_type": "code",
   "execution_count": 2,
   "metadata": {},
   "outputs": [],
   "source": [
    "review_text_df = pd.read_csv('F:\\\\Important Folder\\\\School\\\\UCSD Extension Data Bootcamp\\\\final project\\\\project-3 - Copy\\\\data\\\\reviews.csv')"
   ]
  },
  {
   "cell_type": "code",
   "execution_count": 3,
   "metadata": {},
   "outputs": [],
   "source": [
    "review_text_df.dropna(inplace = True)\n",
    "review_text_df = review_text_df.groupby('listing_id').filter(lambda x: x['id'].count() > 100).reset_index(drop = True)\n",
    "review_text_df['comments cleaned'] = review_text_df['comments'].apply(lambda x: \" \".join(x.lower() for x in x.split()))\n",
    "review_text_df['comments cleaned'] = review_text_df['comments cleaned'].str.replace(r'[^\\w\\s]','')\n",
    "review_text_df['comments cleaned'] = review_text_df['comments cleaned'].apply(lambda x: \" \".join(x for x in x.split() if x not in stop_words))\n",
    "review_text_df['comments cleaned'] = review_text_df['comments cleaned'].apply(lambda x: \" \".join([suffix.stem(word) for word in x.split()]))\n",
    "\n",
    "review_text_df['tokens'] = review_text_df.apply(lambda row: word_tokenize(row['comments cleaned']), axis = 1)"
   ]
  },
  {
   "cell_type": "code",
   "execution_count": 4,
   "metadata": {},
   "outputs": [
    {
     "data": {
      "text/plain": [
       "list"
      ]
     },
     "execution_count": 4,
     "metadata": {},
     "output_type": "execute_result"
    }
   ],
   "source": [
    "type(review_text_df['tokens'][1])"
   ]
  },
  {
   "cell_type": "code",
   "execution_count": 5,
   "metadata": {},
   "outputs": [],
   "source": [
    "def sentimentFunc(x):\n",
    "    return TextBlob(x).sentiment\n",
    "#polarity is how positive -1 to 1, will scale to 0 to 1\n",
    "#subjectivity is fact vs opinion, 0 to one, with factual being 0"
   ]
  },
  {
   "cell_type": "code",
   "execution_count": 6,
   "metadata": {},
   "outputs": [],
   "source": [
    "review_text_df['senti'] = review_text_df['comments cleaned'].apply(sentimentFunc)\n",
    "for index, row in review_text_df.iterrows():\n",
    "    review_text_df.loc[index, 'Sentiment'], review_text_df.loc[index, 'Subjectivity'] = row['senti']\n"
   ]
  },
  {
   "cell_type": "code",
   "execution_count": 7,
   "metadata": {},
   "outputs": [],
   "source": [
    "#review_text_df.to_csv('F:\\\\Important Folder\\\\School\\\\UCSD Extension Data Bootcamp\\\\final project\\\\project-3\\\\data\\\\separated_sentiment.csv')\n",
    "\n",
    "#review_text_df = pd.read_csv('F:\\\\Important Folder\\\\School\\\\UCSD Extension Data Bootcamp\\\\final project\\\\project-3 - Copy\\\\data\\\\separated_sentiment.csv')"
   ]
  },
  {
   "cell_type": "code",
   "execution_count": 8,
   "metadata": {},
   "outputs": [],
   "source": [
    "scaler = MinMaxScaler()\n",
    "\n",
    "review_text_df['Sentiment'] = scaler.fit_transform(review_text_df[['Sentiment']])"
   ]
  },
  {
   "cell_type": "code",
   "execution_count": 9,
   "metadata": {},
   "outputs": [],
   "source": [
    "listings = pd.read_csv('F:\\\\Important Folder\\\\School\\\\UCSD Extension Data Bootcamp\\\\final project\\\\project-3 - Copy\\\\data\\\\listings.csv')"
   ]
  },
  {
   "cell_type": "code",
   "execution_count": 10,
   "metadata": {},
   "outputs": [],
   "source": [
    "review_text_df = review_text_df.merge(listings[['review_scores_rating', 'host_name', 'id']],\n",
    "                                    how = 'left', left_on = 'listing_id', right_on = 'id')\n",
    "\n",
    "review_text_df = review_text_df.drop(columns = ['id_y','senti'])\n",
    "review_text_df.rename(columns = {'id_x':'id'},inplace = True)\n",
    "\n",
    "review_text_df['Mean Sentiment'] = review_text_df['Sentiment'].groupby(review_text_df['listing_id']).transform('mean')\n",
    "review_text_df['Mean Subjectivity'] = review_text_df['Subjectivity'].groupby(review_text_df['listing_id']).transform('mean')\n",
    "\n"
   ]
  },
  {
   "cell_type": "code",
   "execution_count": 11,
   "metadata": {},
   "outputs": [],
   "source": [
    "#review_text_df.to_csv('F:\\\\Important Folder\\\\School\\\\UCSD Extension Data Bootcamp\\\\final project\\\\project-3\\\\separated_sentiment.csv')"
   ]
  },
  {
   "cell_type": "code",
   "execution_count": 12,
   "metadata": {},
   "outputs": [
    {
     "name": "stdout",
     "output_type": "stream",
     "text": [
      "0.03941253607188411\n"
     ]
    },
    {
     "data": {
      "image/png": "[encoded data removed]",
      "text/plain": [
       "<Figure size 432x288 with 1 Axes>"
      ]
     },
     "metadata": {
      "needs_background": "light"
     },
     "output_type": "display_data"
    }
   ],
   "source": [
    "grouped_df = review_text_df.groupby('listing_id')\n",
    "\n",
    "reg = LinearRegression()\n",
    "X = grouped_df.mean()['Sentiment'].values[:,np.newaxis]\n",
    "reg.fit(X, grouped_df.mean()['review_scores_rating'])\n",
    "\n",
    "plt.scatter(X, grouped_df.mean()['review_scores_rating'])\n",
    "plt.plot(X, reg.predict(X), color = 'black')\n",
    "print(reg.score(X, grouped_df.mean()['review_scores_rating']))\n"
   ]
  },
  {
   "cell_type": "code",
   "execution_count": 13,
   "metadata": {},
   "outputs": [],
   "source": [
    "high_subj = review_text_df.loc[review_text_df['Subjectivity'] > 0.5,:]"
   ]
  },
  {
   "cell_type": "code",
   "execution_count": 14,
   "metadata": {},
   "outputs": [
    {
     "name": "stdout",
     "output_type": "stream",
     "text": [
      "8.278214788137728e-05\n"
     ]
    },
    {
     "data": {
      "image/png": "[encoded data removed]",
      "text/plain": [
       "<Figure size 432x288 with 1 Axes>"
      ]
     },
     "metadata": {
      "needs_background": "light"
     },
     "output_type": "display_data"
    }
   ],
   "source": [
    "grouped_df = high_subj.groupby('listing_id')\n",
    "\n",
    "reg = LinearRegression()\n",
    "X = grouped_df.mean()['Sentiment'].values[:,np.newaxis]\n",
    "reg.fit(X, grouped_df.mean()['review_scores_rating'])\n",
    "\n",
    "plt.scatter(X, grouped_df.mean()['review_scores_rating'])\n",
    "plt.plot(X, reg.predict(X), color = 'black')\n",
    "print(reg.score(X, grouped_df.mean()['review_scores_rating']))\n"
   ]
  },
  {
   "cell_type": "code",
   "execution_count": 15,
   "metadata": {
    "scrolled": true
   },
   "outputs": [
    {
     "data": {
      "text/html": [
       "<div>\n",
       "<style scoped>\n",
       "    .dataframe tbody tr th:only-of-type {\n",
       "        vertical-align: middle;\n",
       "    }\n",
       "\n",
       "    .dataframe tbody tr th {\n",
       "        vertical-align: top;\n",
       "    }\n",
       "\n",
       "    .dataframe thead th {\n",
       "        text-align: right;\n",
       "    }\n",
       "</style>\n",
       "<table border=\"1\" class=\"dataframe\">\n",
       "  <thead>\n",
       "    <tr style=\"text-align: right;\">\n",
       "      <th></th>\n",
       "      <th>listing_id</th>\n",
       "      <th>id</th>\n",
       "      <th>date</th>\n",
       "      <th>reviewer_id</th>\n",
       "      <th>reviewer_name</th>\n",
       "      <th>comments</th>\n",
       "      <th>comments cleaned</th>\n",
       "      <th>tokens</th>\n",
       "      <th>Sentiment</th>\n",
       "      <th>Subjectivity</th>\n",
       "      <th>review_scores_rating</th>\n",
       "      <th>host_name</th>\n",
       "      <th>Mean Sentiment</th>\n",
       "      <th>Mean Subjectivity</th>\n",
       "    </tr>\n",
       "  </thead>\n",
       "  <tbody>\n",
       "    <tr>\n",
       "      <th>0</th>\n",
       "      <td>38245</td>\n",
       "      <td>93702</td>\n",
       "      <td>2010-09-09</td>\n",
       "      <td>187475</td>\n",
       "      <td>William</td>\n",
       "      <td>really great hist and nice place, a good locat...</td>\n",
       "      <td>realli great hist nice place good locat san di...</td>\n",
       "      <td>[realli, great, hist, nice, place, good, locat...</td>\n",
       "      <td>0.686310</td>\n",
       "      <td>0.686607</td>\n",
       "      <td>86.0</td>\n",
       "      <td>Melinda</td>\n",
       "      <td>0.679934</td>\n",
       "      <td>0.535697</td>\n",
       "    </tr>\n",
       "    <tr>\n",
       "      <th>1</th>\n",
       "      <td>38245</td>\n",
       "      <td>132608</td>\n",
       "      <td>2010-11-02</td>\n",
       "      <td>269362</td>\n",
       "      <td>John</td>\n",
       "      <td>Melinda is a god person to deal with and very ...</td>\n",
       "      <td>melinda god person deal accommodatingeasi go h...</td>\n",
       "      <td>[melinda, god, person, deal, accommodatingeasi...</td>\n",
       "      <td>0.500000</td>\n",
       "      <td>0.200000</td>\n",
       "      <td>86.0</td>\n",
       "      <td>Melinda</td>\n",
       "      <td>0.679934</td>\n",
       "      <td>0.535697</td>\n",
       "    </tr>\n",
       "    <tr>\n",
       "      <th>2</th>\n",
       "      <td>38245</td>\n",
       "      <td>142704</td>\n",
       "      <td>2010-11-22</td>\n",
       "      <td>108540</td>\n",
       "      <td>Suzan</td>\n",
       "      <td>Melinda's house in a beautiful part of San Die...</td>\n",
       "      <td>melinda hous beauti part san diego close airpo...</td>\n",
       "      <td>[melinda, hous, beauti, part, san, diego, clos...</td>\n",
       "      <td>0.614286</td>\n",
       "      <td>0.295238</td>\n",
       "      <td>86.0</td>\n",
       "      <td>Melinda</td>\n",
       "      <td>0.679934</td>\n",
       "      <td>0.535697</td>\n",
       "    </tr>\n",
       "    <tr>\n",
       "      <th>3</th>\n",
       "      <td>38245</td>\n",
       "      <td>156426</td>\n",
       "      <td>2010-12-20</td>\n",
       "      <td>314129</td>\n",
       "      <td>Sonia</td>\n",
       "      <td>My stay at Melinda's was great. Such a nice, w...</td>\n",
       "      <td>stay melinda great nice warm person beauti com...</td>\n",
       "      <td>[stay, melinda, great, nice, warm, person, bea...</td>\n",
       "      <td>0.769697</td>\n",
       "      <td>0.709091</td>\n",
       "      <td>86.0</td>\n",
       "      <td>Melinda</td>\n",
       "      <td>0.679934</td>\n",
       "      <td>0.535697</td>\n",
       "    </tr>\n",
       "    <tr>\n",
       "      <th>4</th>\n",
       "      <td>38245</td>\n",
       "      <td>169467</td>\n",
       "      <td>2011-01-11</td>\n",
       "      <td>25218</td>\n",
       "      <td>David</td>\n",
       "      <td>Melinda is a very friendly host who is attenti...</td>\n",
       "      <td>melinda friendli host attent guest even invit ...</td>\n",
       "      <td>[melinda, friendli, host, attent, guest, even,...</td>\n",
       "      <td>0.525000</td>\n",
       "      <td>0.250000</td>\n",
       "      <td>86.0</td>\n",
       "      <td>Melinda</td>\n",
       "      <td>0.679934</td>\n",
       "      <td>0.535697</td>\n",
       "    </tr>\n",
       "  </tbody>\n",
       "</table>\n",
       "</div>"
      ],
      "text/plain": [
       "   listing_id      id        date  reviewer_id reviewer_name  \\\n",
       "0       38245   93702  2010-09-09       187475       William   \n",
       "1       38245  132608  2010-11-02       269362          John   \n",
       "2       38245  142704  2010-11-22       108540         Suzan   \n",
       "3       38245  156426  2010-12-20       314129         Sonia   \n",
       "4       38245  169467  2011-01-11        25218         David   \n",
       "\n",
       "                                            comments  \\\n",
       "0  really great hist and nice place, a good locat...   \n",
       "1  Melinda is a god person to deal with and very ...   \n",
       "2  Melinda's house in a beautiful part of San Die...   \n",
       "3  My stay at Melinda's was great. Such a nice, w...   \n",
       "4  Melinda is a very friendly host who is attenti...   \n",
       "\n",
       "                                    comments cleaned  \\\n",
       "0  realli great hist nice place good locat san di...   \n",
       "1  melinda god person deal accommodatingeasi go h...   \n",
       "2  melinda hous beauti part san diego close airpo...   \n",
       "3  stay melinda great nice warm person beauti com...   \n",
       "4  melinda friendli host attent guest even invit ...   \n",
       "\n",
       "                                              tokens  Sentiment  Subjectivity  \\\n",
       "0  [realli, great, hist, nice, place, good, locat...   0.686310      0.686607   \n",
       "1  [melinda, god, person, deal, accommodatingeasi...   0.500000      0.200000   \n",
       "2  [melinda, hous, beauti, part, san, diego, clos...   0.614286      0.295238   \n",
       "3  [stay, melinda, great, nice, warm, person, bea...   0.769697      0.709091   \n",
       "4  [melinda, friendli, host, attent, guest, even,...   0.525000      0.250000   \n",
       "\n",
       "   review_scores_rating host_name  Mean Sentiment  Mean Subjectivity  \n",
       "0                  86.0   Melinda        0.679934           0.535697  \n",
       "1                  86.0   Melinda        0.679934           0.535697  \n",
       "2                  86.0   Melinda        0.679934           0.535697  \n",
       "3                  86.0   Melinda        0.679934           0.535697  \n",
       "4                  86.0   Melinda        0.679934           0.535697  "
      ]
     },
     "execution_count": 15,
     "metadata": {},
     "output_type": "execute_result"
    }
   ],
   "source": [
    "review_text_df.head()"
   ]
  },
  {
   "cell_type": "code",
   "execution_count": 17,
   "metadata": {},
   "outputs": [],
   "source": [
    "#https://kavita-ganesan.com/extracting-keywords-from-text-tfidf/#\n",
    "\n",
    "def get_listing_corpus(series_tokens):\n",
    "    tokens_list = []\n",
    "    for i in series_tokens:\n",
    "        tokens_list = tokens_list + i\n",
    "    return tokens_list\n",
    "\n",
    "def sort_coo(coo_matrix):\n",
    "    tuples = zip(coo_matrix.col, coo_matrix.data)\n",
    "    return sorted(tuples, key=lambda x: (x[1], x[0]), reverse=True)\n",
    "\n",
    "\n",
    "def extract_topn_from_vector(feature_names, sorted_items):\n",
    "    \"\"\"get the feature names and tf-idf score of top n items\"\"\"\n",
    "    \n",
    "    #use only topn items from vector\n",
    "    #sorted_items = sorted_items[:topn]\n",
    "\n",
    "    score_vals = []\n",
    "    feature_vals = []\n",
    "    \n",
    "    # word index and corresponding tf-idf score\n",
    "    for idx, score in sorted_items:\n",
    "        \n",
    "        #keep track of feature name and its corresponding score\n",
    "        score_vals.append(round(score, 3))\n",
    "        feature_vals.append(feature_names[idx])\n",
    "\n",
    "    #create a tuples of feature,score\n",
    "#     results = zip(feature_vals,score_vals)\n",
    "    results= {}\n",
    "    for idx in range(len(feature_vals)):\n",
    "        results[feature_vals[idx]]=score_vals[idx]\n",
    "    return results"
   ]
  },
  {
   "cell_type": "code",
   "execution_count": 18,
   "metadata": {},
   "outputs": [
    {
     "name": "stderr",
     "output_type": "stream",
     "text": [
      "F:\\anaconda\\lib\\site-packages\\pandas\\core\\indexing.py:670: SettingWithCopyWarning: \n",
      "A value is trying to be set on a copy of a slice from a DataFrame\n",
      "\n",
      "See the caveats in the documentation: https://pandas.pydata.org/pandas-docs/stable/user_guide/indexing.html#returning-a-view-versus-a-copy\n",
      "  iloc._setitem_with_indexer(indexer, value)\n"
     ]
    }
   ],
   "source": [
    "grouped_df = review_text_df.groupby('listing_id')\n",
    "\n",
    "tf_idf_df = pd.DataFrame(columns = ['listing_id','tokens','unique_words','tf','tfidf'], index = list(grouped_df.groups.keys()))\n",
    "tf_idf_df['listing_id'] = tf_idf_df.index.values\n",
    "\n",
    "for key, items in grouped_df:\n",
    "    tokens_collected = get_listing_corpus(grouped_df.get_group(key)['tokens'])\n",
    "    tf_idf_df['tokens'].loc[key] = tokens_collected\n",
    "    tf_idf_df['unique_words'].loc[key] = set(tf_idf_df['tokens'].loc[key])\n",
    "    \n",
    "    \n",
    "    cv = CountVectorizer(max_df = 0.85)\n",
    "    word_count_vector = cv.fit_transform(tf_idf_df['tokens'].loc[key])\n",
    "    \n",
    "    tf_idf_df['tf'].loc[key] = str(cv.vocabulary_)\n",
    "    \n",
    "    \n",
    "cv = CountVectorizer(max_df = 0.85)\n",
    "word_count_vector = cv.fit_transform(get_listing_corpus(tf_idf_df['tokens']))\n",
    "\n",
    "tfidf_transformer=TfidfTransformer(smooth_idf=True,use_idf=True)\n",
    "tfidf_transformer.fit(word_count_vector)\n",
    "    \n",
    "feature_names = cv.get_feature_names()\n",
    "\n",
    "\n",
    "for index, row in tf_idf_df.iterrows():\n",
    "    tf_idf_vector = tfidf_transformer.transform(cv.transform([' '.join(tf_idf_df['tokens'].loc[index])]))\n",
    "    sorted_items = sort_coo(tf_idf_vector.tocoo())\n",
    "    \n",
    "    keywords = extract_topn_from_vector(feature_names, sorted_items)\n",
    "    \n",
    "    tf_idf_df['tfidf'].loc[index] = str(keywords)\n",
    "\n",
    "\n",
    "tf_idf_df.reset_index(inplace = True)"
   ]
  },
  {
   "cell_type": "code",
   "execution_count": 28,
   "metadata": {},
   "outputs": [
    {
     "data": {
      "text/plain": [
       "\"{'view': 0.302, 'great': 0.269, 'locat': 0.257, 'place': 0.227, 'littl': 0.168, 'unit': 0.162, 'park': 0.154, 'itali': 0.149, 'stay': 0.147, 'amaz': 0.13, 'loft': 0.126, 'get': 0.123, 'call': 0.106, 'clean': 0.102, 'would': 0.101, 'nice': 0.099, 'door': 0.098, 'time': 0.096, 'one': 0.095, 'check': 0.095, 'walk': 0.092, 'first': 0.088, 'us': 0.085, 'window': 0.083, 'airbnb': 0.082, 'back': 0.081, 'hotel': 0.079, 'beauti': 0.076, 'host': 0.075, 'got': 0.074, 'come': 0.071, 'work': 0.07, 'night': 0.068, 'recommend': 0.068, 'carlo': 0.068, 'definit': 0.066, 'respons': 0.065, 'love': 0.064, 'never': 0.064, 'realli': 0.064, 'open': 0.063, 'next': 0.063, 'dont': 0.062, 'build': 0.062, 'restaur': 0.06, 'minut': 0.06, 'instruct': 0.059, 'spot': 0.058, 'stain': 0.057, 'couch': 0.056, 'street': 0.056, 'bed': 0.055, 'right': 0.055, 'much': 0.055, 'area': 0.055, 'apart': 0.054, 'space': 0.053, 'leav': 0.052, 'arriv': 0.052, 'respond': 0.052, 'didnt': 0.051, 'need': 0.051, 'left': 0.051, 'thing': 0.051, 'air': 0.05, 'well': 0.05, 'key': 0.05, 'provid': 0.05, 'want': 0.049, 'cool': 0.049, 'could': 0.049, 'complet': 0.049, 'water': 0.049, 'refund': 0.049, 'day': 0.048, 'requir': 0.048, 'distanc': 0.048, 'commun': 0.047, 'even': 0.047, 'howev': 0.047, 'pass': 0.046, 'code': 0.046, 'part': 0.045, 'everyth': 0.045, 'manag': 0.044, 'use': 0.044, 'suppos': 0.044, 'experi': 0.044, 'easi': 0.044, 'elev': 0.043, 'morn': 0.043, 'close': 0.042, 'enough': 0.042, 'compani': 0.041, 'perfect': 0.041, 'good': 0.041, 'find': 0.041, 'expect': 0.041, 'also': 0.041, 'heart': 0.04, 'enjoy': 0.04, 'answer': 0.04, 'there': 0.04, 'receiv': 0.04, 'let': 0.039, 'internet': 0.039, 'awesom': 0.038, 'go': 0.038, 'problem': 0.038, 'conveni': 0.038, 'stair': 0.038, 'away': 0.037, 'dish': 0.037, 'hot': 0.037, 'help': 0.037, 'like': 0.036, 'issu': 0.036, 'difficult': 0.036, 'avail': 0.036, 'buzz': 0.035, 'bnb': 0.035, 'differ': 0.035, 'absolut': 0.035, 'intercom': 0.035, 'access': 0.034, 'basic': 0.034, 'felt': 0.034, 'floor': 0.034, 'trip': 0.034, 'mani': 0.034, 'messag': 0.034, 'around': 0.034, 'condom': 0.033, 'wait': 0.033, 'make': 0.033, 'quick': 0.033, 'comfort': 0.033, 'look': 0.032, 'made': 0.032, 'diego': 0.032, 'san': 0.032, 'full': 0.032, 'lot': 0.032, 'broken': 0.032, 'take': 0.031, 'extra': 0.031, 'checkin': 0.031, 'pretti': 0.031, 'cant': 0.031, 'sleep': 0.031, 'valet': 0.031, 'told': 0.03, 'happen': 0.03, 'bit': 0.03, 'construct': 0.03, 'extrem': 0.03, 'better': 0.03, 'sure': 0.029, 'concern': 0.029, 'reach': 0.029, 'overal': 0.029, 'someon': 0.029, 'outstand': 0.029, 'permit': 0.029, 'book': 0.029, 'best': 0.028, 'dryer': 0.028, 'someth': 0.028, 'actual': 0.028, 'downtown': 0.028, 'process': 0.028, 'kitchen': 0.027, 'clear': 0.027, 'review': 0.027, 'photo': 0.027, 'hour': 0.027, 'fast': 0.027, 'packag': 0.027, 'bring': 0.027, 'owner': 0.027, 'wifi': 0.027, 'condo': 0.027, 'took': 0.027, 'happi': 0.027, 'still': 0.027, 'rental': 0.027, 'earli': 0.026, 'sinc': 0.026, 'wonder': 0.026, 'know': 0.026, 'ac': 0.026, 'midnight': 0.026, 'couldnt': 0.026, 'terribl': 0.026, 'tv': 0.026, 'includ': 0.025, 'super': 0.025, 'price': 0.025, 'third': 0.025, 'way': 0.025, 'citi': 0.025, 'matter': 0.025, 'nois': 0.025, 'friend': 0.024, 'screen': 0.024, 'oven': 0.024, 'sd': 0.024, 'bare': 0.024, 'complex': 0.024, 'harbor': 0.024, 'towel': 0.024, 'live': 0.024, 'everi': 0.024, 'exactli': 0.024, 'curtain': 0.024, 'rate': 0.024, 'cancel': 0.023, 'sent': 0.023, 'peopl': 0.023, 'sink': 0.023, 'cover': 0.023, 'two': 0.023, 'half': 0.023, 'bathroom': 0.023, 'wake': 0.023, 'shop': 0.022, 'behind': 0.022, 'underwear': 0.022, 'voicemail': 0.022, 'puddl': 0.022, 'stop': 0.022, 'direct': 0.021, 'ad': 0.021, 'bonu': 0.021, 'lock': 0.021, 'highli': 0.021, 'javier': 0.021, 'fine': 0.021, 'free': 0.021, 'star': 0.021, 'across': 0.021, 'thank': 0.021, 'overflow': 0.02, 'last': 0.02, 'garag': 0.02, 'sunset': 0.02, 'second': 0.02, 'new': 0.02, 'late': 0.02, 'tri': 0.02, 'pipe': 0.02, 'refus': 0.019, 'found': 0.019, 'futur': 0.019, 'say': 0.019, 'gaslamp': 0.019, '10': 0.019, 'light': 0.019, 'ask': 0.019, 'old': 0.019, 'home': 0.019, 'big': 0.019, 'incred': 0.019, 'seriou': 0.019, 'claim': 0.019, 'offer': 0.019, '90': 0.018, 'cupboard': 0.018, 'outsid': 0.018, 'your': 0.018, 'alway': 0.018, 'see': 0.018, 'damag': 0.018, 'random': 0.018, 'food': 0.018, 'plumb': 0.018, 'pictur': 0.018, 'car': 0.018, 'local': 0.018, 'empti': 0.018, 'what': 0.018, 'coupl': 0.018, 'abl': 0.018, 'guest': 0.018, 'upper': 0.018, 'potenti': 0.018, 'pain': 0.018, 'block': 0.018, 'sunlight': 0.018, 'stellar': 0.018, 'red': 0.018, 'degre': 0.018, 'black': 0.017, 'relax': 0.017, 'question': 0.017, 'meant': 0.017, 'slow': 0.017, 'wouldv': 0.017, 'initi': 0.017, 'adequ': 0.017, 'smart': 0.017, 'autom': 0.017, 'fair': 0.016, 'complain': 0.016, 'sort': 0.016, 'trash': 0.016, 'app': 0.016, 'control': 0.016, 'figur': 0.016, 'cute': 0.016, 'break': 0.016, 'covid': 0.016, 'temperatur': 0.016, 'movi': 0.016, 'system': 0.016, 'paid': 0.016, 'fee': 0.016, 'instead': 0.016, 'websit': 0.016, 'downstair': 0.016, 'moment': 0.015, 'enter': 0.015, 'cheap': 0.015, 'downsid': 0.015, 'cours': 0.015, 'email': 0.015, 'post': 0.015, 'necess': 0.015, 'phone': 0.015, 'dirti': 0.015, 'true': 0.015, 'amount': 0.015, 'multipl': 0.015, 'toilet': 0.015, 'soap': 0.015, 'sun': 0.015, 'ceil': 0.015, 'toiletri': 0.015, 'otherwis': 0.015, 'netflix': 0.015, 'chanc': 0.015, 'room': 0.015, 'money': 0.015, 'notic': 0.015, 'not': 0.015, 'servic': 0.015, 'must': 0.015, 'gate': 0.015, 'can': 0.015, 'turn': 0.015, 'month': 0.015, 'heat': 0.015, 'washer': 0.015, 'read': 0.014, 'wouldnt': 0.014, 'text': 0.014, 'tini': 0.014, 'wont': 0.014, 'cold': 0.014, 'reserv': 0.014, 'condit': 0.014, 'pleas': 0.014, 'secur': 0.014, 'base': 0.014, 'upstair': 0.014, 'disappoint': 0.014, 'contact': 0.014, 'wall': 0.014, 'pillow': 0.014, 'bother': 0.014, 'except': 0.014, 'consid': 0.014, 'tabl': 0.014, 'upon': 0.014, 'deal': 0.014, 'dinner': 0.014, 'boyfriend': 0.014, 'point': 0.014, 'fulli': 0.014, 'that': 0.014, 'meal': 0.014, 'worth': 0.014, 'seem': 0.014, 'advertis': 0.014, 'breez': 0.014, 'sever': 0.014, 'favorit': 0.014, 'watch': 0.013, 'huge': 0.013, 'year': 0.013, 'spend': 0.013, 'id': 0.013, 'neighbor': 0.013, 'walkabl': 0.013, 'give': 0.013, 'perfectli': 0.013, 'attent': 0.013, 'share': 0.013, 'came': 0.013, 'rent': 0.013, 'insid': 0.013, 'larg': 0.013, 'list': 0.013, 'though': 0.013, 'step': 0.013, 'cook': 0.013, 'especi': 0.013, 'stylish': 0.013, 'quickli': 0.013, 'kid': 0.013, 'hope': 0.013, 'went': 0.013, 'nearbi': 0.013, 'front': 0.013, 'eat': 0.013, 'unconform': 0.013, 'spacenic': 0.013, 'parkingunload': 0.013, 'namespeopl': 0.013, 'labelssignag': 0.013, 'keylockbox': 0.013, 'italy': 0.013, 'hostag': 0.013, 'foodcoffeebeercocktail': 0.013, 'electricitymeetswat': 0.013, 'didsign': 0.013, 'combinationcod': 0.013, 'clearhost': 0.013, 'billionair': 0.013, 'bargainy': 0.013, 'aare3': 0.013, 'ever': 0.012, 'store': 0.012, 'valu': 0.012, 'person': 0.012, 'appreci': 0.012, 'bay': 0.012, 'workbut': 0.012, 'wallceil': 0.012, 'soot': 0.012, 'purport': 0.012, 'escrow': 0.012, 'town': 0.012, 'near': 0.012, 'central': 0.012, 'anyon': 0.012, 'shower': 0.012, 'yah': 0.012, 'rulesregul': 0.012, 'repark': 0.012, 'overh': 0.012, 'growth': 0.012, 'glitchi': 0.012, '93': 0.012, 'bar': 0.012, 'touch': 0.012, 'plenti': 0.012, 'queue': 0.012, 'peopleand': 0.012, 'hue': 0.012, 'touchpad': 0.012, 'murki': 0.012, 'indiffer': 0.012, 'short': 0.011, 'within': 0.011, 'minuscul': 0.011, 'stayin': 0.011, 'possess': 0.011, 'dimli': 0.011, 'destroy': 0.011, 'locationright': 0.011, 'liar': 0.011, '240': 0.011, 'inappropri': 0.011, 'windowsil': 0.011, 'suspici': 0.011, 'drafti': 0.011, 'emot': 0.011, 'visit': 0.011, 'mitt': 0.011, 'loftstyl': 0.011, '230': 0.011, 'oddli': 0.011, 'depress': 0.011, 'cheapli': 0.011, 'lint': 0.011, 'chore': 0.011, 'stupid': 0.011, 'passerbi': 0.011, 'advert': 0.011, 'meh': 0.011, 'maze': 0.011, 'login': 0.011, 'economi': 0.011, 'cozi': 0.011, 'viru': 0.011, '1pm': 0.011, 'costli': 0.011, 'scissor': 0.011, 'scam': 0.011, 'highqual': 0.011, 'midweek': 0.011, 'localis': 0.011, 'implement': 0.011, 'pitch': 0.011, 'finicki': 0.011, 'compet': 0.011, 'capac': 0.011, 'inconsist': 0.011, 'corpor': 0.011, 'ass': 0.011, '1210': 0.011, 'unknown': 0.011, 'negoti': 0.011, 'obtain': 0.01, 'useless': 0.01, 'unclear': 0.01, 'swept': 0.01, 'fresco': 0.01, 'suddenli': 0.01, 'noic': 0.01, 'anxiou': 0.01, 'aliv': 0.01, 'incorrect': 0.01, 'eaten': 0.01, 'abnb': 0.01, '85': 0.01, 'payment': 0.01, 'dumpster': 0.01, 'brows': 0.01, 'asset': 0.01, 'desper': 0.01, 'nonexist': 0.01, 'unprofession': 0.01, 'primari': 0.01, 'theyll': 0.01, 'problemat': 0.01, 'emphas': 0.01, 'stovetop': 0.01, 'network': 0.01, 'mop': 0.01, 'cobweb': 0.01, 'blood': 0.01, 'client': 0.01, 'unaccept': 0.01, 'tape': 0.01, 'dock': 0.01, 'precaut': 0.01, 'carloss': 0.01, 'underground': 0.01, 'lobbi': 0.01, 'hazard': 0.01, 'contribut': 0.01, 'unrespons': 0.01, 'hbo': 0.01, 'miscommun': 0.01, 'content': 0.01, 'blame': 0.01, 'bet': 0.01, 'trap': 0.01, 'download': 0.01, 'burner': 0.01, 'sold': 0.01, 'toler': 0.01, 'sweat': 0.01, 'measur': 0.01, 'reli': 0.01, 'hr': 0.01, 'flood': 0.01, 'protect': 0.01, 'isol': 0.01, 'harder': 0.01, 'galor': 0.01, '19': 0.01, 'roach': 0.01, 'link': 0.01, 'await': 0.01, 'stood': 0.01, 'profil': 0.01, 'risk': 0.01, 'thermostat': 0.01, 'kill': 0.01, '4pm': 0.01, 'physic': 0.009, 'knive': 0.009, 'surfac': 0.009, 'nightmar': 0.009, 'log': 0.009, 'stranger': 0.009, 'freez': 0.009, 'circumst': 0.009, 'upset': 0.009, 'joke': 0.009, 'disgust': 0.009, 'doorstep': 0.009, 'inquir': 0.009, 'prevent': 0.009, 'bargain': 0.009, 'boot': 0.009, 'hunt': 0.009, 'complic': 0.009, 'circl': 0.009, 'ruin': 0.009, '7am': 0.009, 'labor': 0.009, 'breezi': 0.009, 'opt': 0.009, 'polici': 0.009, 'precis': 0.009, 'magnific': 0.009, 'apolog': 0.009, 'million': 0.009, 'massiv': 0.009, 'crack': 0.009, '711': 0.009, 'appeal': 0.009, 'pair': 0.009, 'gross': 0.009, 'rack': 0.009, 'print': 0.009, 'lose': 0.009, 'wast': 0.009, 'recept': 0.009, 'leg': 0.009, 'casual': 0.009, 'amazon': 0.009, 'thu': 0.009, 'ago': 0.009, 'indic': 0.009, 'affect': 0.009, 'incheck': 0.009, 'skip': 0.009, 'funni': 0.009, 'seek': 0.009, 'equal': 0.009, 'blown': 0.009, 'unlock': 0.009, 'havent': 0.009, 'occupi': 0.009, 'bless': 0.009, 'join': 0.009, 'inspir': 0.009, 'assum': 0.009, 'spare': 0.009, 'current': 0.009, 'poor': 0.009, 'unusu': 0.009, 'written': 0.009, 'deserv': 0.009, 'repeat': 0.009, 'averag': 0.009, 'consist': 0.009, 'video': 0.009, 'café': 0.009, 'worst': 0.009, 'odd': 0.009, 'hulu': 0.009, 'kick': 0.009, 'premis': 0.009, 'belong': 0.009, 'sorri': 0.009, 'cleanest': 0.009, 'solv': 0.009, 'accept': 0.009, 'elsewher': 0.009, 'oper': 0.009, 'appar': 0.009, 'non': 0.009, 'uss': 0.009, 'roku': 0.009, 'lost': 0.009, 'effect': 0.009, 'rebook': 0.009, 'mainten': 0.009, 'narrow': 0.009, 'dri': 0.009, '50': 0.009, 'exampl': 0.009, 'bake': 0.009, 'dust': 0.009, 'onlin': 0.009, 'pandem': 0.009, 'rough': 0.009, 'support': 0.009, 'sat': 0.009, 'stream': 0.009, 'safeti': 0.009, 'jump': 0.009, 'gather': 0.009, 'unsaf': 0.009, 'shade': 0.009, 'pic': 0.009, 'keypad': 0.009, 'kindli': 0.009, 'search': 0.009, 'carpet': 0.009, 'sunday': 0.008, 'match': 0.008, 'lit': 0.008, 'confus': 0.008, 'hop': 0.008, 'solid': 0.008, 'guess': 0.008, 'discov': 0.008, 'midway': 0.008, 'fanci': 0.008, 'ahead': 0.008, 'refresh': 0.008, 'breathtak': 0.008, 'navig': 0.008, 'staycat': 0.008, 'luckili': 0.008, 'tenant': 0.008, 'rare': 0.008, 'promis': 0.008, 'compar': 0.008, 'happier': 0.008, 'restroom': 0.008, '25': 0.008, 'crazi': 0.008, 'bug': 0.008, 'sensit': 0.008, 'origin': 0.008, 'caus': 0.008, 'warn': 0.008, 'unless': 0.008, 'magic': 0.008, 'doubl': 0.008, 'expens': 0.008, 'woke': 0.008, 'inquiri': 0.008, 'cleaner': 0.008, 'waterfront': 0.008, 'tough': 0.008, 'ate': 0.008, 'util': 0.008, 'twice': 0.008, 'word': 0.008, 'vehicl': 0.008, 'color': 0.008, 'stress': 0.008, 'fall': 0.008, 'settl': 0.008, 'final': 0.008, 'oh': 0.008, 'hip': 0.008, 'greatli': 0.008, 'washerdry': 0.008, 'popular': 0.008, 'per': 0.008, 'appear': 0.008, 'realiz': 0.008, 'thorough': 0.008, 'romant': 0.008, 'pour': 0.008, 'ye': 0.008, 'nicer': 0.008, 'grab': 0.008, 'rain': 0.008, 'prefer': 0.008, 'assist': 0.008, 'destin': 0.008, 'highlight': 0.008, 'afternoon': 0.008, 'arrang': 0.008, 'chose': 0.008, 'info': 0.008, 'iron': 0.008, 'foot': 0.008, 'effici': 0.008, 'rather': 0.008, 'rule': 0.008, 'least': 0.008, 'regard': 0.008, 'okay': 0.008, 'neg': 0.008, 'pet': 0.008, 'facil': 0.008, 'often': 0.008, 'date': 0.008, 'music': 0.008, 'cloth': 0.008, 'minor': 0.008, 'superb': 0.008, 'decent': 0.008, 'save': 0.008, 'cup': 0.008, 'pot': 0.008, 'marina': 0.008, 'challeng': 0.008, 'lack': 0.008, 'spectacular': 0.008, 'alon': 0.008, 'drop': 0.008, 'farmer': 0.008, '30': 0.008, 'usual': 0.008, 'hair': 0.008, 'sometim': 0.008, 'level': 0.008, 'connect': 0.008, 'paper': 0.008, 'necessari': 0.008, 'decid': 0.008, 'fill': 0.008, 'follow': 0.008, 'glad': 0.008, 'honestli': 0.008, 'werent': 0.008, 'promptli': 0.008, 'ok': 0.008, 'saw': 0.008, 'uncomfort': 0.008, 'later': 0.008, 'mayb': 0.008, 'fact': 0.008, 'prime': 0.008, 'smooth': 0.008, 'chang': 0.008, 'common': 0.008, 'thoroughli': 0.007, 'soft': 0.007, 'natur': 0.007, 'bag': 0.007, 'tast': 0.007, 'lyft': 0.007, 'brought': 0.007, 'unfortun': 0.007, 'pay': 0.007, 'maintain': 0.007, 'tell': 0.007, 'singl': 0.007, 'furnitur': 0.007, 'doesnt': 0.007, 'either': 0.007, 'fix': 0.007, 'real': 0.007, 'separ': 0.007, 'airplan': 0.007, 'girlfriend': 0.007, 'worri': 0.007, 'hand': 0.007, '1010': 0.007, 'ill': 0.007, 'breweri': 0.007, 'road': 0.007, 'essenti': 0.007, 'afford': 0.007, 'guy': 0.007, 'wash': 0.007, 'repli': 0.007, 'invit': 0.007, 'isnt': 0.007, 'updat': 0.007, 'cleanli': 0.007, 'move': 0.007, 'traffic': 0.007, 'children': 0.007, 'sheet': 0.007, 'checkout': 0.007, 'bright': 0.007, 'mattress': 0.007, 'hidden': 0.007, 'neat': 0.007, 'prompt': 0.007, 'alreadi': 0.007, 'reason': 0.007, 'four': 0.007, 'item': 0.007, 'prepar': 0.007, 'youll': 0.007, 'graciou': 0.007, '20': 0.007, 'addit': 0.007, 'spotless': 0.007, 'dine': 0.007, 'furnish': 0.007, 'proxim': 0.007, 'bad': 0.007, 'mind': 0.007, 'high': 0.007, 'market': 0.007, 'district': 0.007, 'special': 0.007, 'noth': 0.007, 'middl': 0.007, 'entranc': 0.007, 'due': 0.007, 'flight': 0.007, 'immedi': 0.007, 'activ': 0.007, 'wed': 0.007, 'rest': 0.007, 'freeway': 0.007, 'entir': 0.007, 'descript': 0.007, 'anywher': 0.007, 'mention': 0.007, 'total': 0.007, 'possibl': 0.007, 'beat': 0.007, 'center': 0.007, 'side': 0.007, 'put': 0.007, 'soon': 0.007, 'plane': 0.007, 'kept': 0.007, 'option': 0.007, 'gorgeou': 0.007, 'less': 0.007, 'met': 0.007, 'liter': 0.007, 'ton': 0.007, 'loud': 0.007, 'inform': 0.007, 'anoth': 0.007, 'keep': 0.007, 'truli': 0.007, '15': 0.007, 'top': 0.007, 'meet': 0.007, 'busi': 0.007, 'set': 0.007, 'fridg': 0.007, 'care': 0.007, 'modern': 0.007, 'groceri': 0.007, 'week': 0.007, 'charm': 0.007, 'husband': 0.006, 'wasnt': 0.006, 'long': 0.006, 'north': 0.006, 'uber': 0.006, 'plan': 0.006, 'far': 0.006, 'vacat': 0.006, 'min': 0.006, 'gave': 0.006, 'stock': 0.006, 'plu': 0.006, 'explor': 0.006, 'airport': 0.006, 'properti': 0.006, 'dog': 0.006, 'kind': 0.006, 'travel': 0.006, 'bedroom': 0.006, 'weekend': 0.006, 'safe': 0.006, 'decor': 0.006, 'fantast': 0.006, 'ocean': 0.006, 'excel': 0.006, 'small': 0.006, 'welcom': 0.006, 'friendli': 0.006, 'amen': 0.006, 'accommod': 0.006, 'famili': 0.006, 'neighborhood': 0.005, 'hous': 0.005}\""
      ]
     },
     "execution_count": 28,
     "metadata": {},
     "output_type": "execute_result"
    }
   ],
   "source": [
    "tf_idf_df['tfidf'][1234]"
   ]
  },
  {
   "cell_type": "markdown",
   "metadata": {},
   "source": [
    "talk about listing id 26782981\n",
    "\n",
    "https://www.airbnb.com/rooms/26782981/photos/?source_impression_id=p3_1626940495_pDo2Hqmp0x%2F%2Bq0N2&guests=1&adults=1\n",
    "\n"
   ]
  },
  {
   "cell_type": "code",
   "execution_count": 20,
   "metadata": {},
   "outputs": [
    {
     "data": {
      "text/html": [
       "<div>\n",
       "<style scoped>\n",
       "    .dataframe tbody tr th:only-of-type {\n",
       "        vertical-align: middle;\n",
       "    }\n",
       "\n",
       "    .dataframe tbody tr th {\n",
       "        vertical-align: top;\n",
       "    }\n",
       "\n",
       "    .dataframe thead th {\n",
       "        text-align: right;\n",
       "    }\n",
       "</style>\n",
       "<table border=\"1\" class=\"dataframe\">\n",
       "  <thead>\n",
       "    <tr style=\"text-align: right;\">\n",
       "      <th></th>\n",
       "      <th>index</th>\n",
       "      <th>listing_id</th>\n",
       "      <th>tokens</th>\n",
       "      <th>unique_words</th>\n",
       "      <th>tf</th>\n",
       "      <th>tfidf</th>\n",
       "    </tr>\n",
       "  </thead>\n",
       "  <tbody>\n",
       "    <tr>\n",
       "      <th>0</th>\n",
       "      <td>38245</td>\n",
       "      <td>38245</td>\n",
       "      <td>[realli, great, hist, nice, place, good, locat...</td>\n",
       "      <td>{middl, less, nest, plumb, advic, well, shoe, ...</td>\n",
       "      <td>{'realli': 968, 'great': 551, 'hist': 595, 'ni...</td>\n",
       "      <td>{'melinda': 0.745, 'stay': 0.175, 'hous': 0.14...</td>\n",
       "    </tr>\n",
       "    <tr>\n",
       "      <th>1</th>\n",
       "      <td>62274</td>\n",
       "      <td>62274</td>\n",
       "      <td>[isabel, gener, thought, hostess, thoroughli, ...</td>\n",
       "      <td>{reinmachen, middl, straße, less, beschrieben,...</td>\n",
       "      <td>{'isabel': 1159, 'gener': 929, 'thought': 2130...</td>\n",
       "      <td>{'isabel': 0.652, 'stay': 0.197, 'place': 0.19...</td>\n",
       "    </tr>\n",
       "    <tr>\n",
       "      <th>2</th>\n",
       "      <td>62949</td>\n",
       "      <td>62949</td>\n",
       "      <td>[rental, exactli, state, lisa, provid, nice, a...</td>\n",
       "      <td>{middl, replier, honesti, less, wlot, oscar, c...</td>\n",
       "      <td>{'rental': 1337, 'exactli': 584, 'state': 1536...</td>\n",
       "      <td>{'lisa': 0.576, 'place': 0.251, 'stay': 0.241,...</td>\n",
       "    </tr>\n",
       "    <tr>\n",
       "      <th>3</th>\n",
       "      <td>75668</td>\n",
       "      <td>75668</td>\n",
       "      <td>[found, apart, clean, tidi, spaciou, wellappoi...</td>\n",
       "      <td>{univers, shelv, middl, coincident, less, deal...</td>\n",
       "      <td>{'found': 515, 'apart': 100, 'clean': 260, 'ti...</td>\n",
       "      <td>{'johnathon': 0.512, 'stay': 0.253, 'great': 0...</td>\n",
       "    </tr>\n",
       "    <tr>\n",
       "      <th>4</th>\n",
       "      <td>79300</td>\n",
       "      <td>79300</td>\n",
       "      <td>[great, stay, room, clean, nice, host, great, ...</td>\n",
       "      <td>{minut, univers, star, es, tuck, stále, middl,...</td>\n",
       "      <td>{'great': 471, 'stay': 985, 'room': 880, 'clea...</td>\n",
       "      <td>{'johnathon': 0.56, 'stay': 0.24, 'great': 0.2...</td>\n",
       "    </tr>\n",
       "    <tr>\n",
       "      <th>...</th>\n",
       "      <td>...</td>\n",
       "      <td>...</td>\n",
       "      <td>...</td>\n",
       "      <td>...</td>\n",
       "      <td>...</td>\n",
       "      <td>...</td>\n",
       "    </tr>\n",
       "    <tr>\n",
       "      <th>1479</th>\n",
       "      <td>42143732</td>\n",
       "      <td>42143732</td>\n",
       "      <td>[beauti, condo, downtown, sd, near, littl, ita...</td>\n",
       "      <td>{dude, minut, decor, star, woke, event, comfi,...</td>\n",
       "      <td>{'beauti': 68, 'condo': 120, 'downtown': 168, ...</td>\n",
       "      <td>{'rich': 0.491, 'place': 0.302, 'stay': 0.294,...</td>\n",
       "    </tr>\n",
       "    <tr>\n",
       "      <th>1480</th>\n",
       "      <td>42608887</td>\n",
       "      <td>42608887</td>\n",
       "      <td>[jenni, place, amaz, chic, stylish, exactli, p...</td>\n",
       "      <td>{minut, decor, sue, star, woke, middl, comfi, ...</td>\n",
       "      <td>{'jenni': 317, 'place': 448, 'amaz': 31, 'chic...</td>\n",
       "      <td>{'place': 0.346, 'beach': 0.26, 'great': 0.259...</td>\n",
       "    </tr>\n",
       "    <tr>\n",
       "      <th>1481</th>\n",
       "      <td>42627855</td>\n",
       "      <td>42627855</td>\n",
       "      <td>[great, spot, coupl, block, beach, jenni, plac...</td>\n",
       "      <td>{minut, decor, rip, supposedli, comfi, 1, less...</td>\n",
       "      <td>{'great': 285, 'spot': 599, 'coupl': 157, 'blo...</td>\n",
       "      <td>{'place': 0.316, 'beach': 0.308, 'jenni': 0.21...</td>\n",
       "    </tr>\n",
       "    <tr>\n",
       "      <th>1482</th>\n",
       "      <td>42689144</td>\n",
       "      <td>42689144</td>\n",
       "      <td>[great, spot, mission, beach, cozi, cottag, we...</td>\n",
       "      <td>{booger, star, minut, decor, middl, comfi, hea...</td>\n",
       "      <td>{'great': 240, 'spot': 479, 'mission': 335, 'b...</td>\n",
       "      <td>{'place': 0.403, 'locat': 0.342, 'beach': 0.30...</td>\n",
       "    </tr>\n",
       "    <tr>\n",
       "      <th>1483</th>\n",
       "      <td>43791368</td>\n",
       "      <td>43791368</td>\n",
       "      <td>[great, place, great, locat, great, price, tha...</td>\n",
       "      <td>{minut, decor, middl, comfi, 1, mention, fligh...</td>\n",
       "      <td>{'great': 214, 'place': 351, 'locat': 272, 'pr...</td>\n",
       "      <td>{'arya': 0.418, 'great': 0.296, 'place': 0.293...</td>\n",
       "    </tr>\n",
       "  </tbody>\n",
       "</table>\n",
       "<p>1484 rows × 6 columns</p>\n",
       "</div>"
      ],
      "text/plain": [
       "         index  listing_id                                             tokens  \\\n",
       "0        38245       38245  [realli, great, hist, nice, place, good, locat...   \n",
       "1        62274       62274  [isabel, gener, thought, hostess, thoroughli, ...   \n",
       "2        62949       62949  [rental, exactli, state, lisa, provid, nice, a...   \n",
       "3        75668       75668  [found, apart, clean, tidi, spaciou, wellappoi...   \n",
       "4        79300       79300  [great, stay, room, clean, nice, host, great, ...   \n",
       "...        ...         ...                                                ...   \n",
       "1479  42143732    42143732  [beauti, condo, downtown, sd, near, littl, ita...   \n",
       "1480  42608887    42608887  [jenni, place, amaz, chic, stylish, exactli, p...   \n",
       "1481  42627855    42627855  [great, spot, coupl, block, beach, jenni, plac...   \n",
       "1482  42689144    42689144  [great, spot, mission, beach, cozi, cottag, we...   \n",
       "1483  43791368    43791368  [great, place, great, locat, great, price, tha...   \n",
       "\n",
       "                                           unique_words  \\\n",
       "0     {middl, less, nest, plumb, advic, well, shoe, ...   \n",
       "1     {reinmachen, middl, straße, less, beschrieben,...   \n",
       "2     {middl, replier, honesti, less, wlot, oscar, c...   \n",
       "3     {univers, shelv, middl, coincident, less, deal...   \n",
       "4     {minut, univers, star, es, tuck, stále, middl,...   \n",
       "...                                                 ...   \n",
       "1479  {dude, minut, decor, star, woke, event, comfi,...   \n",
       "1480  {minut, decor, sue, star, woke, middl, comfi, ...   \n",
       "1481  {minut, decor, rip, supposedli, comfi, 1, less...   \n",
       "1482  {booger, star, minut, decor, middl, comfi, hea...   \n",
       "1483  {minut, decor, middl, comfi, 1, mention, fligh...   \n",
       "\n",
       "                                                     tf  \\\n",
       "0     {'realli': 968, 'great': 551, 'hist': 595, 'ni...   \n",
       "1     {'isabel': 1159, 'gener': 929, 'thought': 2130...   \n",
       "2     {'rental': 1337, 'exactli': 584, 'state': 1536...   \n",
       "3     {'found': 515, 'apart': 100, 'clean': 260, 'ti...   \n",
       "4     {'great': 471, 'stay': 985, 'room': 880, 'clea...   \n",
       "...                                                 ...   \n",
       "1479  {'beauti': 68, 'condo': 120, 'downtown': 168, ...   \n",
       "1480  {'jenni': 317, 'place': 448, 'amaz': 31, 'chic...   \n",
       "1481  {'great': 285, 'spot': 599, 'coupl': 157, 'blo...   \n",
       "1482  {'great': 240, 'spot': 479, 'mission': 335, 'b...   \n",
       "1483  {'great': 214, 'place': 351, 'locat': 272, 'pr...   \n",
       "\n",
       "                                                  tfidf  \n",
       "0     {'melinda': 0.745, 'stay': 0.175, 'hous': 0.14...  \n",
       "1     {'isabel': 0.652, 'stay': 0.197, 'place': 0.19...  \n",
       "2     {'lisa': 0.576, 'place': 0.251, 'stay': 0.241,...  \n",
       "3     {'johnathon': 0.512, 'stay': 0.253, 'great': 0...  \n",
       "4     {'johnathon': 0.56, 'stay': 0.24, 'great': 0.2...  \n",
       "...                                                 ...  \n",
       "1479  {'rich': 0.491, 'place': 0.302, 'stay': 0.294,...  \n",
       "1480  {'place': 0.346, 'beach': 0.26, 'great': 0.259...  \n",
       "1481  {'place': 0.316, 'beach': 0.308, 'jenni': 0.21...  \n",
       "1482  {'place': 0.403, 'locat': 0.342, 'beach': 0.30...  \n",
       "1483  {'arya': 0.418, 'great': 0.296, 'place': 0.293...  \n",
       "\n",
       "[1484 rows x 6 columns]"
      ]
     },
     "execution_count": 20,
     "metadata": {},
     "output_type": "execute_result"
    }
   ],
   "source": [
    "tf_idf_df"
   ]
  },
  {
   "cell_type": "code",
   "execution_count": 21,
   "metadata": {},
   "outputs": [],
   "source": [
    "#tf_idf_df.to_csv('F:\\\\Important Folder\\\\School\\\\UCSD Extension Data Bootcamp\\\\final project\\\\project-3 - Copy\\\\data\\\\tf_idf.csv')"
   ]
  },
  {
   "cell_type": "code",
   "execution_count": null,
   "metadata": {},
   "outputs": [],
   "source": []
  }
 ],
 "metadata": {
  "kernelspec": {
   "display_name": "Python 3",
   "language": "python",
   "name": "python3"
  },
  "language_info": {
   "codemirror_mode": {
    "name": "ipython",
    "version": 3
   },
   "file_extension": ".py",
   "mimetype": "text/x-python",
   "name": "python",
   "nbconvert_exporter": "python",
   "pygments_lexer": "ipython3",
   "version": "3.8.5"
  }
 },
 "nbformat": 4,
 "nbformat_minor": 4
}
