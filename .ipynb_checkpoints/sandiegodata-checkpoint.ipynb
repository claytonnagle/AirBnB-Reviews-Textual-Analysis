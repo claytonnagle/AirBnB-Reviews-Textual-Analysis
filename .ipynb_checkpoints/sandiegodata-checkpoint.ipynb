{
 "cells": [
  {
   "cell_type": "code",
   "execution_count": 1,
   "id": "47af5800",
   "metadata": {},
   "outputs": [],
   "source": [
    "import pandas as pd"
   ]
  },
  {
   "cell_type": "markdown",
   "id": "3d8f2cfa",
   "metadata": {},
   "source": [
    "# Preprocessing "
   ]
  },
  {
   "cell_type": "code",
   "execution_count": 2,
   "id": "a3f092b5",
   "metadata": {},
   "outputs": [
    {
     "ename": "FileNotFoundError",
     "evalue": "[Errno 2] No such file or directory: 'sandiego_listings.csv'",
     "output_type": "error",
     "traceback": [
      "\u001b[0;31m---------------------------------------------------------------------------\u001b[0m",
      "\u001b[0;31mFileNotFoundError\u001b[0m                         Traceback (most recent call last)",
      "\u001b[0;32m<ipython-input-2-724df5b3cf2e>\u001b[0m in \u001b[0;36m<module>\u001b[0;34m\u001b[0m\n\u001b[0;32m----> 1\u001b[0;31m \u001b[0msd_listings_df\u001b[0m \u001b[0;34m=\u001b[0m \u001b[0mpd\u001b[0m\u001b[0;34m.\u001b[0m\u001b[0mread_csv\u001b[0m\u001b[0;34m(\u001b[0m\u001b[0;34m'sandiego_listings.csv'\u001b[0m\u001b[0;34m)\u001b[0m\u001b[0;34m\u001b[0m\u001b[0;34m\u001b[0m\u001b[0m\n\u001b[0m\u001b[1;32m      2\u001b[0m \u001b[0msd_listings_df\u001b[0m\u001b[0;34m\u001b[0m\u001b[0;34m\u001b[0m\u001b[0m\n",
      "\u001b[0;32m~/opt/anaconda3/envs/PythonAdv/lib/python3.6/site-packages/pandas/io/parsers.py\u001b[0m in \u001b[0;36mread_csv\u001b[0;34m(filepath_or_buffer, sep, delimiter, header, names, index_col, usecols, squeeze, prefix, mangle_dupe_cols, dtype, engine, converters, true_values, false_values, skipinitialspace, skiprows, skipfooter, nrows, na_values, keep_default_na, na_filter, verbose, skip_blank_lines, parse_dates, infer_datetime_format, keep_date_col, date_parser, dayfirst, cache_dates, iterator, chunksize, compression, thousands, decimal, lineterminator, quotechar, quoting, doublequote, escapechar, comment, encoding, dialect, error_bad_lines, warn_bad_lines, delim_whitespace, low_memory, memory_map, float_precision)\u001b[0m\n\u001b[1;32m    686\u001b[0m     )\n\u001b[1;32m    687\u001b[0m \u001b[0;34m\u001b[0m\u001b[0m\n\u001b[0;32m--> 688\u001b[0;31m     \u001b[0;32mreturn\u001b[0m \u001b[0m_read\u001b[0m\u001b[0;34m(\u001b[0m\u001b[0mfilepath_or_buffer\u001b[0m\u001b[0;34m,\u001b[0m \u001b[0mkwds\u001b[0m\u001b[0;34m)\u001b[0m\u001b[0;34m\u001b[0m\u001b[0;34m\u001b[0m\u001b[0m\n\u001b[0m\u001b[1;32m    689\u001b[0m \u001b[0;34m\u001b[0m\u001b[0m\n\u001b[1;32m    690\u001b[0m \u001b[0;34m\u001b[0m\u001b[0m\n",
      "\u001b[0;32m~/opt/anaconda3/envs/PythonAdv/lib/python3.6/site-packages/pandas/io/parsers.py\u001b[0m in \u001b[0;36m_read\u001b[0;34m(filepath_or_buffer, kwds)\u001b[0m\n\u001b[1;32m    452\u001b[0m \u001b[0;34m\u001b[0m\u001b[0m\n\u001b[1;32m    453\u001b[0m     \u001b[0;31m# Create the parser.\u001b[0m\u001b[0;34m\u001b[0m\u001b[0;34m\u001b[0m\u001b[0;34m\u001b[0m\u001b[0m\n\u001b[0;32m--> 454\u001b[0;31m     \u001b[0mparser\u001b[0m \u001b[0;34m=\u001b[0m \u001b[0mTextFileReader\u001b[0m\u001b[0;34m(\u001b[0m\u001b[0mfp_or_buf\u001b[0m\u001b[0;34m,\u001b[0m \u001b[0;34m**\u001b[0m\u001b[0mkwds\u001b[0m\u001b[0;34m)\u001b[0m\u001b[0;34m\u001b[0m\u001b[0;34m\u001b[0m\u001b[0m\n\u001b[0m\u001b[1;32m    455\u001b[0m \u001b[0;34m\u001b[0m\u001b[0m\n\u001b[1;32m    456\u001b[0m     \u001b[0;32mif\u001b[0m \u001b[0mchunksize\u001b[0m \u001b[0;32mor\u001b[0m \u001b[0miterator\u001b[0m\u001b[0;34m:\u001b[0m\u001b[0;34m\u001b[0m\u001b[0;34m\u001b[0m\u001b[0m\n",
      "\u001b[0;32m~/opt/anaconda3/envs/PythonAdv/lib/python3.6/site-packages/pandas/io/parsers.py\u001b[0m in \u001b[0;36m__init__\u001b[0;34m(self, f, engine, **kwds)\u001b[0m\n\u001b[1;32m    946\u001b[0m             \u001b[0mself\u001b[0m\u001b[0;34m.\u001b[0m\u001b[0moptions\u001b[0m\u001b[0;34m[\u001b[0m\u001b[0;34m\"has_index_names\"\u001b[0m\u001b[0;34m]\u001b[0m \u001b[0;34m=\u001b[0m \u001b[0mkwds\u001b[0m\u001b[0;34m[\u001b[0m\u001b[0;34m\"has_index_names\"\u001b[0m\u001b[0;34m]\u001b[0m\u001b[0;34m\u001b[0m\u001b[0;34m\u001b[0m\u001b[0m\n\u001b[1;32m    947\u001b[0m \u001b[0;34m\u001b[0m\u001b[0m\n\u001b[0;32m--> 948\u001b[0;31m         \u001b[0mself\u001b[0m\u001b[0;34m.\u001b[0m\u001b[0m_make_engine\u001b[0m\u001b[0;34m(\u001b[0m\u001b[0mself\u001b[0m\u001b[0;34m.\u001b[0m\u001b[0mengine\u001b[0m\u001b[0;34m)\u001b[0m\u001b[0;34m\u001b[0m\u001b[0;34m\u001b[0m\u001b[0m\n\u001b[0m\u001b[1;32m    949\u001b[0m \u001b[0;34m\u001b[0m\u001b[0m\n\u001b[1;32m    950\u001b[0m     \u001b[0;32mdef\u001b[0m \u001b[0mclose\u001b[0m\u001b[0;34m(\u001b[0m\u001b[0mself\u001b[0m\u001b[0;34m)\u001b[0m\u001b[0;34m:\u001b[0m\u001b[0;34m\u001b[0m\u001b[0;34m\u001b[0m\u001b[0m\n",
      "\u001b[0;32m~/opt/anaconda3/envs/PythonAdv/lib/python3.6/site-packages/pandas/io/parsers.py\u001b[0m in \u001b[0;36m_make_engine\u001b[0;34m(self, engine)\u001b[0m\n\u001b[1;32m   1178\u001b[0m     \u001b[0;32mdef\u001b[0m \u001b[0m_make_engine\u001b[0m\u001b[0;34m(\u001b[0m\u001b[0mself\u001b[0m\u001b[0;34m,\u001b[0m \u001b[0mengine\u001b[0m\u001b[0;34m=\u001b[0m\u001b[0;34m\"c\"\u001b[0m\u001b[0;34m)\u001b[0m\u001b[0;34m:\u001b[0m\u001b[0;34m\u001b[0m\u001b[0;34m\u001b[0m\u001b[0m\n\u001b[1;32m   1179\u001b[0m         \u001b[0;32mif\u001b[0m \u001b[0mengine\u001b[0m \u001b[0;34m==\u001b[0m \u001b[0;34m\"c\"\u001b[0m\u001b[0;34m:\u001b[0m\u001b[0;34m\u001b[0m\u001b[0;34m\u001b[0m\u001b[0m\n\u001b[0;32m-> 1180\u001b[0;31m             \u001b[0mself\u001b[0m\u001b[0;34m.\u001b[0m\u001b[0m_engine\u001b[0m \u001b[0;34m=\u001b[0m \u001b[0mCParserWrapper\u001b[0m\u001b[0;34m(\u001b[0m\u001b[0mself\u001b[0m\u001b[0;34m.\u001b[0m\u001b[0mf\u001b[0m\u001b[0;34m,\u001b[0m \u001b[0;34m**\u001b[0m\u001b[0mself\u001b[0m\u001b[0;34m.\u001b[0m\u001b[0moptions\u001b[0m\u001b[0;34m)\u001b[0m\u001b[0;34m\u001b[0m\u001b[0;34m\u001b[0m\u001b[0m\n\u001b[0m\u001b[1;32m   1181\u001b[0m         \u001b[0;32melse\u001b[0m\u001b[0;34m:\u001b[0m\u001b[0;34m\u001b[0m\u001b[0;34m\u001b[0m\u001b[0m\n\u001b[1;32m   1182\u001b[0m             \u001b[0;32mif\u001b[0m \u001b[0mengine\u001b[0m \u001b[0;34m==\u001b[0m \u001b[0;34m\"python\"\u001b[0m\u001b[0;34m:\u001b[0m\u001b[0;34m\u001b[0m\u001b[0;34m\u001b[0m\u001b[0m\n",
      "\u001b[0;32m~/opt/anaconda3/envs/PythonAdv/lib/python3.6/site-packages/pandas/io/parsers.py\u001b[0m in \u001b[0;36m__init__\u001b[0;34m(self, src, **kwds)\u001b[0m\n\u001b[1;32m   2008\u001b[0m         \u001b[0mkwds\u001b[0m\u001b[0;34m[\u001b[0m\u001b[0;34m\"usecols\"\u001b[0m\u001b[0;34m]\u001b[0m \u001b[0;34m=\u001b[0m \u001b[0mself\u001b[0m\u001b[0;34m.\u001b[0m\u001b[0musecols\u001b[0m\u001b[0;34m\u001b[0m\u001b[0;34m\u001b[0m\u001b[0m\n\u001b[1;32m   2009\u001b[0m \u001b[0;34m\u001b[0m\u001b[0m\n\u001b[0;32m-> 2010\u001b[0;31m         \u001b[0mself\u001b[0m\u001b[0;34m.\u001b[0m\u001b[0m_reader\u001b[0m \u001b[0;34m=\u001b[0m \u001b[0mparsers\u001b[0m\u001b[0;34m.\u001b[0m\u001b[0mTextReader\u001b[0m\u001b[0;34m(\u001b[0m\u001b[0msrc\u001b[0m\u001b[0;34m,\u001b[0m \u001b[0;34m**\u001b[0m\u001b[0mkwds\u001b[0m\u001b[0;34m)\u001b[0m\u001b[0;34m\u001b[0m\u001b[0;34m\u001b[0m\u001b[0m\n\u001b[0m\u001b[1;32m   2011\u001b[0m         \u001b[0mself\u001b[0m\u001b[0;34m.\u001b[0m\u001b[0munnamed_cols\u001b[0m \u001b[0;34m=\u001b[0m \u001b[0mself\u001b[0m\u001b[0;34m.\u001b[0m\u001b[0m_reader\u001b[0m\u001b[0;34m.\u001b[0m\u001b[0munnamed_cols\u001b[0m\u001b[0;34m\u001b[0m\u001b[0;34m\u001b[0m\u001b[0m\n\u001b[1;32m   2012\u001b[0m \u001b[0;34m\u001b[0m\u001b[0m\n",
      "\u001b[0;32mpandas/_libs/parsers.pyx\u001b[0m in \u001b[0;36mpandas._libs.parsers.TextReader.__cinit__\u001b[0;34m()\u001b[0m\n",
      "\u001b[0;32mpandas/_libs/parsers.pyx\u001b[0m in \u001b[0;36mpandas._libs.parsers.TextReader._setup_parser_source\u001b[0;34m()\u001b[0m\n",
      "\u001b[0;31mFileNotFoundError\u001b[0m: [Errno 2] No such file or directory: 'sandiego_listings.csv'"
     ]
    }
   ],
   "source": [
    "sd_listings_df = pd.read_csv('sandiego_listings.csv')\n",
    "sd_listings_df"
   ]
  },
  {
   "cell_type": "code",
   "execution_count": null,
   "id": "e6993b70",
   "metadata": {},
   "outputs": [],
   "source": [
    "sandiego_senti_df = pd.read_csv('separated_sentiment.csv')\n",
    "sandiego_senti_df "
   ]
  },
  {
   "cell_type": "code",
   "execution_count": null,
   "id": "3c42bb5f",
   "metadata": {},
   "outputs": [],
   "source": [
    "# drop column id \n",
    "clean_sandiego_senti_df = sandiego_senti_df.drop(columns=['id'])\n",
    "# clean_sandiego_senti_df"
   ]
  },
  {
   "cell_type": "code",
   "execution_count": null,
   "id": "ad10f2a8",
   "metadata": {},
   "outputs": [],
   "source": [
    "join_df = sd_listings_df.join(clean_sandiego_senti_df.set_index('listing_id'), on='id')\n",
    "join_df"
   ]
  },
  {
   "cell_type": "code",
   "execution_count": null,
   "id": "aed8a4ac",
   "metadata": {},
   "outputs": [],
   "source": [
    "join_df.columns"
   ]
  },
  {
   "cell_type": "code",
   "execution_count": null,
   "id": "10da5aea",
   "metadata": {},
   "outputs": [],
   "source": [
    "new_df = join_df[['id','review_scores_rating','review_scores_accuracy','review_scores_cleanliness','review_scores_checkin',\n",
    "                  'review_scores_communication','review_scores_location','review_scores_value','latitude','longitude']]\n",
    "new_df "
   ]
  },
  {
   "cell_type": "code",
   "execution_count": null,
   "id": "0c7ccd5e",
   "metadata": {
    "scrolled": true
   },
   "outputs": [],
   "source": [
    "drop_df = new_df.dropna()\n",
    "drop_df "
   ]
  },
  {
   "cell_type": "code",
   "execution_count": null,
   "id": "65cab3db",
   "metadata": {},
   "outputs": [],
   "source": [
    "duplicates_df = drop_df.drop_duplicates()\n",
    "duplicates_df.head(10)"
   ]
  },
  {
   "cell_type": "code",
   "execution_count": null,
   "id": "9b7e2b23",
   "metadata": {},
   "outputs": [],
   "source": [
    "reset_df = duplicates_df.reset_index()\n",
    "reset_df.head(115)"
   ]
  },
  {
   "cell_type": "code",
   "execution_count": null,
   "id": "ce265db4",
   "metadata": {},
   "outputs": [],
   "source": [
    "clean_df = reset_df.drop(columns=['index'])\n",
    "clean_df.head(114)"
   ]
  },
  {
   "cell_type": "code",
   "execution_count": null,
   "id": "78b27443",
   "metadata": {
    "scrolled": true
   },
   "outputs": [],
   "source": [
    "clean_df.dtypes"
   ]
  },
  {
   "cell_type": "markdown",
   "id": "0d993e64",
   "metadata": {},
   "source": [
    "#### Averages"
   ]
  },
  {
   "cell_type": "code",
   "execution_count": null,
   "id": "c0bbf0c7",
   "metadata": {
    "scrolled": true
   },
   "outputs": [],
   "source": [
    "mean_df = sandiego_senti_df.groupby(['listing_id']).mean()\n",
    "mean_df "
   ]
  },
  {
   "cell_type": "code",
   "execution_count": null,
   "id": "08dcf69b",
   "metadata": {},
   "outputs": [],
   "source": [
    "# creating list_id as a column\n",
    "mean_df['senti_mean_id'] = mean_df.index"
   ]
  },
  {
   "cell_type": "code",
   "execution_count": null,
   "id": "70fbad48",
   "metadata": {},
   "outputs": [],
   "source": [
    "senti_avg_df = mean_df[['senti_mean_id','Sentiment','Subjectivity']]\n",
    "senti_avg_df"
   ]
  },
  {
   "cell_type": "code",
   "execution_count": null,
   "id": "879ee1b6",
   "metadata": {},
   "outputs": [],
   "source": [
    "# join_df = sd_listings_df.join(clean_sandiego_senti_df.set_index('listing_id'), on='id')\n",
    "\n",
    "join_mean_df = clean_df.join(senti_avg_df.set_index('senti_mean_id'), on='id')\n",
    "join_mean_df"
   ]
  },
  {
   "cell_type": "code",
   "execution_count": null,
   "id": "8f82795e",
   "metadata": {},
   "outputs": [],
   "source": [
    "sandiego_df = join_mean_df.dropna()\n",
    "sandiego_df"
   ]
  },
  {
   "cell_type": "code",
   "execution_count": null,
   "id": "8ad8ad90",
   "metadata": {},
   "outputs": [],
   "source": [
    "# checking above if averages are correct \n",
    "# senti_avg_df"
   ]
  },
  {
   "cell_type": "markdown",
   "id": "7285b56c",
   "metadata": {},
   "source": [
    "### Polarity/Review Rating Scatter + Linear Regression "
   ]
  },
  {
   "cell_type": "code",
   "execution_count": null,
   "id": "cb9119ec",
   "metadata": {},
   "outputs": [],
   "source": [
    "import matplotlib.pyplot as plt \n",
    "\n",
    "plt.scatter(sandiego_df['Sentiment'], sandiego_df['review_scores_rating'])\n",
    "plt.xlabel('Sentiment Average Score')\n",
    "plt.ylabel('Review Rating')"
   ]
  },
  {
   "cell_type": "code",
   "execution_count": null,
   "id": "c63a110f",
   "metadata": {},
   "outputs": [],
   "source": [
    "# reshape \n",
    "X = sandiego_df['Sentiment'].values.reshape(-1,1)\n",
    "y = sandiego_df['review_scores_rating'].values.reshape(-1,1)\n",
    "\n",
    "print(\"Shape:\",X.shape, y.shape)"
   ]
  },
  {
   "cell_type": "code",
   "execution_count": null,
   "id": "f7b9e596",
   "metadata": {},
   "outputs": [],
   "source": [
    "from sklearn.model_selection import train_test_split \n",
    "\n",
    "X_train, X_test, y_train, y_test = train_test_split(X,y, random_state = 42)"
   ]
  },
  {
   "cell_type": "code",
   "execution_count": null,
   "id": "9ea58466",
   "metadata": {},
   "outputs": [],
   "source": [
    "from sklearn.linear_model import LinearRegression \n",
    "\n",
    "model = LinearRegression()"
   ]
  },
  {
   "cell_type": "code",
   "execution_count": null,
   "id": "d90d13f9",
   "metadata": {},
   "outputs": [],
   "source": [
    "model.fit(X_train, y_train)"
   ]
  },
  {
   "cell_type": "code",
   "execution_count": null,
   "id": "de8fc602",
   "metadata": {},
   "outputs": [],
   "source": [
    "model.score(X, y) # whole data"
   ]
  },
  {
   "cell_type": "code",
   "execution_count": null,
   "id": "688fdaad",
   "metadata": {
    "scrolled": true
   },
   "outputs": [],
   "source": [
    "from sklearn.metrics import mean_squared_error, r2_score \n",
    "\n",
    "predict = model.predict(X_test)\n",
    "\n",
    "mse = mean_squared_error(y_test, predict)\n",
    "r2 = r2_score(y_test, predict)\n",
    "\n",
    "print(f'Mean Squared Error (MSE): {mse}')\n",
    "print (f'R-squared (R2): {r2}')"
   ]
  },
  {
   "cell_type": "markdown",
   "id": "e6896850",
   "metadata": {},
   "source": [
    "BAD R2 SCORE.. Hard to predict "
   ]
  },
  {
   "cell_type": "code",
   "execution_count": null,
   "id": "f2e04396",
   "metadata": {},
   "outputs": [],
   "source": [
    "plt.scatter(X_test, y_test)\n",
    "plt.plot(X_test, predict, color='red')"
   ]
  },
  {
   "cell_type": "code",
   "execution_count": null,
   "id": "089803b9",
   "metadata": {},
   "outputs": [],
   "source": [
    "# Model A Bit Off\n",
    "# Checking Predicted Scores\n",
    "print(f\"True output: {y[0]}\")\n",
    "print(f\"Predicted output: {predict[0]}\")\n",
    "print(f\"Prediction Error: {predict[0]-y[0]}\")"
   ]
  },
  {
   "cell_type": "code",
   "execution_count": null,
   "id": "c3b01fc0",
   "metadata": {},
   "outputs": [],
   "source": [
    "print(f\"True output: {y[1]}\")\n",
    "print(f\"Predicted output: {predict[1]}\")\n",
    "print(f\"Prediction Error: {predict[1]-y[1]}\")"
   ]
  },
  {
   "cell_type": "code",
   "execution_count": null,
   "id": "40985532",
   "metadata": {},
   "outputs": [],
   "source": [
    "print(f\"True output: {y[2]}\")\n",
    "print(f\"Predicted output: {predict[2]}\")\n",
    "print(f\"Prediction Error: {predict[2]-y[2]}\")"
   ]
  },
  {
   "cell_type": "markdown",
   "id": "6c80e48b",
   "metadata": {},
   "source": [
    "### Subjectivity/Review Rating Scatter + Linear Regression "
   ]
  },
  {
   "cell_type": "code",
   "execution_count": null,
   "id": "6f982321",
   "metadata": {},
   "outputs": [],
   "source": [
    "plt.scatter(sandiego_df['Subjectivity'], sandiego_df['review_scores_rating'])\n",
    "plt.xlabel('Subjectivity Score')\n",
    "plt.ylabel('Review Rating')"
   ]
  },
  {
   "cell_type": "code",
   "execution_count": null,
   "id": "52c88c3a",
   "metadata": {},
   "outputs": [],
   "source": [
    "X_sub = sandiego_df['Subjectivity'].values.reshape(-1,1)\n",
    "\n",
    "print(\"Shape:\", X_sub.shape, y.shape)"
   ]
  },
  {
   "cell_type": "code",
   "execution_count": null,
   "id": "8189cf8e",
   "metadata": {},
   "outputs": [],
   "source": [
    "model.score(X_sub, y)"
   ]
  },
  {
   "cell_type": "code",
   "execution_count": null,
   "id": "29a7fb1a",
   "metadata": {},
   "outputs": [],
   "source": [
    "X_train_sub, X_test_sub, y_train_rev, y_test_rev = train_test_split(X_sub,y, random_state = 42)"
   ]
  },
  {
   "cell_type": "code",
   "execution_count": null,
   "id": "43ccc28f",
   "metadata": {},
   "outputs": [],
   "source": [
    "submodel = LinearRegression()"
   ]
  },
  {
   "cell_type": "code",
   "execution_count": null,
   "id": "802b441f",
   "metadata": {},
   "outputs": [],
   "source": [
    "submodel.fit(X_train_sub, y_train_rev)"
   ]
  },
  {
   "cell_type": "code",
   "execution_count": null,
   "id": "21921a91",
   "metadata": {},
   "outputs": [],
   "source": [
    "subpredict = submodel.predict(X_test_sub)\n",
    "\n",
    "sub_mse = mean_squared_error(y_test_rev, subpredict)\n",
    "sub_r2 = r2_score(y_test_rev, subpredict)\n",
    "\n",
    "print(f'Mean Squared Error (MSE): {sub_mse}')\n",
    "print (f'R-squared (R2): {sub_r2}')"
   ]
  },
  {
   "cell_type": "code",
   "execution_count": null,
   "id": "2d060fd8",
   "metadata": {
    "scrolled": true
   },
   "outputs": [],
   "source": [
    "plt.scatter(X_test_sub, y_test_rev)\n",
    "plt.plot(X_test_sub, subpredict, color='red')\n",
    "plt.xlabel('Subjectivity Score')\n",
    "plt.ylabel('Review Rating')"
   ]
  },
  {
   "cell_type": "markdown",
   "id": "994ff75e",
   "metadata": {},
   "source": [
    "### Polarity/Subjectivity Scatter Plot + Linear Regression"
   ]
  },
  {
   "cell_type": "code",
   "execution_count": null,
   "id": "c9240af3",
   "metadata": {
    "scrolled": true
   },
   "outputs": [],
   "source": [
    "plt.scatter(sandiego_df['Sentiment'], sandiego_df['Subjectivity'])\n",
    "plt.xlabel('Sentiment Score')\n",
    "plt.ylabel('Subjectivity Score')"
   ]
  },
  {
   "cell_type": "code",
   "execution_count": null,
   "id": "1f8c3de5",
   "metadata": {},
   "outputs": [],
   "source": [
    "y_sub = sandiego_df['Subjectivity'].values.reshape(-1,1)\n",
    "\n",
    "print(\"Shape:\", X.shape, y_sub.shape)"
   ]
  },
  {
   "cell_type": "code",
   "execution_count": null,
   "id": "cef14f16",
   "metadata": {},
   "outputs": [],
   "source": [
    "X_train_senti, X_test_senti, y_train_sub, y_test_sub = train_test_split(X, y_sub, random_state = 42)"
   ]
  },
  {
   "cell_type": "code",
   "execution_count": null,
   "id": "2b1d7921",
   "metadata": {},
   "outputs": [],
   "source": [
    "sentimodel = LinearRegression()"
   ]
  },
  {
   "cell_type": "code",
   "execution_count": null,
   "id": "8013e66b",
   "metadata": {},
   "outputs": [],
   "source": [
    "sentimodel.fit(X_train_senti, y_train_sub)"
   ]
  },
  {
   "cell_type": "code",
   "execution_count": null,
   "id": "2da4a405",
   "metadata": {},
   "outputs": [],
   "source": [
    "sentimodel.score(X, y_sub)"
   ]
  },
  {
   "cell_type": "code",
   "execution_count": null,
   "id": "b2eafbfd",
   "metadata": {},
   "outputs": [],
   "source": [
    "senti_predict = sentimodel.predict(X_test_senti)\n",
    "\n",
    "senti_mse = mean_squared_error(y_test_sub, senti_predict)\n",
    "senti_r2 = r2_score(y_test_sub, senti_predict)\n",
    "\n",
    "print(f'Mean Squared Error (MSE): {senti_mse}')\n",
    "print (f'R-squared (R2): {senti_r2}')"
   ]
  },
  {
   "cell_type": "code",
   "execution_count": null,
   "id": "3e763c6d",
   "metadata": {},
   "outputs": [],
   "source": [
    "plt.scatter(X_test_senti, y_test_sub)\n",
    "plt.plot(X_test_senti, senti_predict, color='red')\n",
    "plt.xlabel('Sentiment Score')\n",
    "plt.ylabel('Subjectivity Score')"
   ]
  },
  {
   "cell_type": "markdown",
   "id": "42d1f959",
   "metadata": {},
   "source": [
    "As reviews become more opinionated, reviews tend to be more positive. Vice versa."
   ]
  }
 ],
 "metadata": {
  "kernelspec": {
   "display_name": "Python [conda env:PythonAdv] *",
   "language": "python",
   "name": "conda-env-PythonAdv-py"
  },
  "language_info": {
   "codemirror_mode": {
    "name": "ipython",
    "version": 3
   },
   "file_extension": ".py",
   "mimetype": "text/x-python",
   "name": "python",
   "nbconvert_exporter": "python",
   "pygments_lexer": "ipython3",
   "version": "3.6.10"
  }
 },
 "nbformat": 4,
 "nbformat_minor": 5
}
